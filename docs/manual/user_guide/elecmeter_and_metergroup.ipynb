{
 "cells": [
  {
   "cell_type": "markdown",
   "metadata": {},
   "source": [
    "# MeterGroup, ElecMeter, selection and basic statistics"
   ]
  },
  {
   "cell_type": "markdown",
   "metadata": {},
   "source": [
    "All NILM datasets consists of various groupings of electricity meters.  We can group the meters by house.  Or by the type of appliance they are directly connected to.  Or by sample rate.  Or by whether the meter is a whole-house \"site meter\" or an appliance-level submeter, or a circuit-level submeter.\n",
    "\n",
    "In NILMTK, one of the key classes is `MeterGroup` which stores a list of `meters` and allows us to select a subset of meters, aggregate power from all meters and many other functions.\n",
    "\n",
    "When we first open a `DataSet`, NILMTK creates several `MeterGroup` objects.  There's `nilmtk.global_meter_group` which holds every meter currently loaded (including from multiple datasets if you have opened more than one dataset).  There is also one `MeterGroup` per building (which live in the `Building.elec` attribute).  We also nested `MeterGroups` for aggregating together split-phase mains, 3-phase mains and dual-supply (240 volt) appliances in North American and Canadan datasets.  For example, here is the `MeterGroup` for building 1 in REDD:"
   ]
  },
  {
   "cell_type": "markdown",
   "metadata": {},
   "source": [
    "**NOTE**: If you are on Windows, remember to escape the back-slashes, use forward-slashs, or use raw-strings when passing paths in Python, e.g. one of the following would work:\n",
    "\n",
    "```python\n",
    "redd = DataSet('c:\\\\data\\\\REDD\\\\redd.h5')\n",
    "redd = DataSet('c:/data/REDD/redd.h5')\n",
    "redd = DataSet(r'c:\\data\\REDD\\redd.h5')\n",
    "```"
   ]
  },
  {
   "cell_type": "code",
   "execution_count": 30,
   "metadata": {},
   "outputs": [
    {
     "data": {
      "text/plain": [
       "MeterGroup(meters=\n",
       "  ElecMeter(instance=1, building=1, dataset='REDD', site_meter, appliances=[])\n",
       "  ElecMeter(instance=2, building=1, dataset='REDD', site_meter, appliances=[])\n",
       "  ElecMeter(instance=5, building=1, dataset='REDD', appliances=[Appliance(type='fridge', instance=1)])\n",
       "  ElecMeter(instance=6, building=1, dataset='REDD', appliances=[Appliance(type='dish washer', instance=1)])\n",
       "  ElecMeter(instance=7, building=1, dataset='REDD', appliances=[Appliance(type='sockets', instance=1)])\n",
       "  ElecMeter(instance=8, building=1, dataset='REDD', appliances=[Appliance(type='sockets', instance=2)])\n",
       "  ElecMeter(instance=9, building=1, dataset='REDD', appliances=[Appliance(type='light', instance=1)])\n",
       "  ElecMeter(instance=11, building=1, dataset='REDD', appliances=[Appliance(type='microwave', instance=1)])\n",
       "  ElecMeter(instance=12, building=1, dataset='REDD', appliances=[Appliance(type='unknown', instance=1)])\n",
       "  ElecMeter(instance=13, building=1, dataset='REDD', appliances=[Appliance(type='electric space heater', instance=1)])\n",
       "  ElecMeter(instance=14, building=1, dataset='REDD', appliances=[Appliance(type='electric stove', instance=1)])\n",
       "  ElecMeter(instance=15, building=1, dataset='REDD', appliances=[Appliance(type='sockets', instance=3)])\n",
       "  ElecMeter(instance=16, building=1, dataset='REDD', appliances=[Appliance(type='sockets', instance=4)])\n",
       "  ElecMeter(instance=17, building=1, dataset='REDD', appliances=[Appliance(type='light', instance=2)])\n",
       "  ElecMeter(instance=18, building=1, dataset='REDD', appliances=[Appliance(type='light', instance=3)])\n",
       "  ElecMeter(instance=19, building=1, dataset='REDD', appliances=[Appliance(type='unknown', instance=2)])\n",
       "  MeterGroup(meters=\n",
       "    ElecMeter(instance=3, building=1, dataset='REDD', appliances=[Appliance(type='electric oven', instance=1)])\n",
       "    ElecMeter(instance=4, building=1, dataset='REDD', appliances=[Appliance(type='electric oven', instance=1)])\n",
       "  )\n",
       "  MeterGroup(meters=\n",
       "    ElecMeter(instance=10, building=1, dataset='REDD', appliances=[Appliance(type='washer dryer', instance=1)])\n",
       "    ElecMeter(instance=20, building=1, dataset='REDD', appliances=[Appliance(type='washer dryer', instance=1)])\n",
       "  )\n",
       ")"
      ]
     },
     "execution_count": 30,
     "metadata": {},
     "output_type": "execute_result"
    }
   ],
   "source": [
    "from matplotlib import rcParams\n",
    "import matplotlib.pyplot as plt\n",
    "import pandas as pd\n",
    "import seaborn as sns\n",
    "%matplotlib inline\n",
    "rcParams['figure.figsize'] = (13, 10)\n",
    "plt.style.use('ggplot')\n",
    "import nilmtk\n",
    "from nilmtk import DataSet, MeterGroup\n",
    "\n",
    "\n",
    "redd = DataSet('/data/REDD/redd.h5')\n",
    "elec = redd.buildings[1].elec\n",
    "elec"
   ]
  },
  {
   "cell_type": "markdown",
   "metadata": {},
   "source": [
    "Note that there are two nested `MeterGroups`: one for the electric oven, and one for the washer dryer (both of which are 240 volt appliances and have two meters per appliance):"
   ]
  },
  {
   "cell_type": "code",
   "execution_count": 3,
   "metadata": {},
   "outputs": [
    {
     "data": {
      "text/plain": [
       "[MeterGroup(meters=\n",
       "   ElecMeter(instance=3, building=1, dataset='REDD', appliances=[Appliance(type='electric oven', instance=1)])\n",
       "   ElecMeter(instance=4, building=1, dataset='REDD', appliances=[Appliance(type='electric oven', instance=1)])\n",
       " ), MeterGroup(meters=\n",
       "   ElecMeter(instance=10, building=1, dataset='REDD', appliances=[Appliance(type='washer dryer', instance=1)])\n",
       "   ElecMeter(instance=20, building=1, dataset='REDD', appliances=[Appliance(type='washer dryer', instance=1)])\n",
       " )]"
      ]
     },
     "execution_count": 3,
     "metadata": {},
     "output_type": "execute_result"
    }
   ],
   "source": [
    "elec.nested_metergroups()"
   ]
  },
  {
   "cell_type": "markdown",
   "metadata": {},
   "source": [
    "Putting these meters into a `MeterGroup` allows us to easily sum together the power demand recorded by both meters to get the total power demand for the entire appliance (but it's also very easy to see the individual meter power demand too)."
   ]
  },
  {
   "cell_type": "markdown",
   "metadata": {},
   "source": [
    "We can easily get a MeterGroup of either the submeters or the mains:"
   ]
  },
  {
   "cell_type": "code",
   "execution_count": 4,
   "metadata": {},
   "outputs": [
    {
     "data": {
      "text/plain": [
       "MeterGroup(meters=\n",
       "  ElecMeter(instance=1, building=1, dataset='REDD', site_meter, appliances=[])\n",
       "  ElecMeter(instance=2, building=1, dataset='REDD', site_meter, appliances=[])\n",
       ")"
      ]
     },
     "execution_count": 4,
     "metadata": {},
     "output_type": "execute_result"
    }
   ],
   "source": [
    "elec.mains()"
   ]
  },
  {
   "cell_type": "markdown",
   "metadata": {},
   "source": [
    "We can easily get the power data for both mains meters summed together:"
   ]
  },
  {
   "cell_type": "code",
   "execution_count": 5,
   "metadata": {},
   "outputs": [
    {
     "name": "stdout",
     "output_type": "stream",
     "text": [
      "\r",
      "Loading data for meter ElecMeterID(instance=1, building=1, dataset='REDD')     "
     ]
    },
    {
     "name": "stderr",
     "output_type": "stream",
     "text": [
      "/home/ayush/nilmtk/nilmtk/metergroup.py:1776: FutureWarning: Method .as_matrix will be removed in a future version. Use .values instead.\n",
      "  cumulator_arr = cumulator.as_matrix()\n"
     ]
    },
    {
     "name": "stdout",
     "output_type": "stream",
     "text": [
      "Loading data for meter ElecMeterID(instance=2, building=1, dataset='REDD')     \n",
      "Done loading data all meters for this chunk.\n"
     ]
    },
    {
     "data": {
      "text/plain": [
       "2011-04-18 09:22:09-04:00    342.820007\n",
       "2011-04-18 09:22:10-04:00    344.559998\n",
       "2011-04-18 09:22:11-04:00    345.140015\n",
       "2011-04-18 09:22:12-04:00    341.679993\n",
       "2011-04-18 09:22:13-04:00    341.029999\n",
       "Name: (power, apparent), dtype: float32"
      ]
     },
     "execution_count": 5,
     "metadata": {},
     "output_type": "execute_result"
    }
   ],
   "source": [
    "elec.mains().power_series_all_data().head()"
   ]
  },
  {
   "cell_type": "code",
   "execution_count": 5,
   "metadata": {},
   "outputs": [
    {
     "data": {
      "text/plain": [
       "MeterGroup(meters=\n",
       "  ElecMeter(instance=5, building=1, dataset='REDD', appliances=[Appliance(type='fridge', instance=1)])\n",
       "  ElecMeter(instance=6, building=1, dataset='REDD', appliances=[Appliance(type='dish washer', instance=1)])\n",
       "  ElecMeter(instance=7, building=1, dataset='REDD', appliances=[Appliance(type='sockets', instance=1)])\n",
       "  ElecMeter(instance=8, building=1, dataset='REDD', appliances=[Appliance(type='sockets', instance=2)])\n",
       "  ElecMeter(instance=9, building=1, dataset='REDD', appliances=[Appliance(type='light', instance=1)])\n",
       "  ElecMeter(instance=11, building=1, dataset='REDD', appliances=[Appliance(type='microwave', instance=1)])\n",
       "  ElecMeter(instance=12, building=1, dataset='REDD', appliances=[Appliance(type='unknown', instance=1)])\n",
       "  ElecMeter(instance=13, building=1, dataset='REDD', appliances=[Appliance(type='electric space heater', instance=1)])\n",
       "  ElecMeter(instance=14, building=1, dataset='REDD', appliances=[Appliance(type='electric stove', instance=1)])\n",
       "  ElecMeter(instance=15, building=1, dataset='REDD', appliances=[Appliance(type='sockets', instance=3)])\n",
       "  ElecMeter(instance=16, building=1, dataset='REDD', appliances=[Appliance(type='sockets', instance=4)])\n",
       "  ElecMeter(instance=17, building=1, dataset='REDD', appliances=[Appliance(type='light', instance=2)])\n",
       "  ElecMeter(instance=18, building=1, dataset='REDD', appliances=[Appliance(type='light', instance=3)])\n",
       "  ElecMeter(instance=19, building=1, dataset='REDD', appliances=[Appliance(type='unknown', instance=2)])\n",
       "  MeterGroup(meters=\n",
       "    ElecMeter(instance=3, building=1, dataset='REDD', appliances=[Appliance(type='electric oven', instance=1)])\n",
       "    ElecMeter(instance=4, building=1, dataset='REDD', appliances=[Appliance(type='electric oven', instance=1)])\n",
       "  )\n",
       "  MeterGroup(meters=\n",
       "    ElecMeter(instance=10, building=1, dataset='REDD', appliances=[Appliance(type='washer dryer', instance=1)])\n",
       "    ElecMeter(instance=20, building=1, dataset='REDD', appliances=[Appliance(type='washer dryer', instance=1)])\n",
       "  )\n",
       ")"
      ]
     },
     "execution_count": 5,
     "metadata": {},
     "output_type": "execute_result"
    }
   ],
   "source": [
    "elec.submeters()"
   ]
  },
  {
   "cell_type": "markdown",
   "metadata": {},
   "source": [
    "## Stats for MeterGroups"
   ]
  },
  {
   "cell_type": "markdown",
   "metadata": {},
   "source": [
    "### Proportion of energy submetered"
   ]
  },
  {
   "cell_type": "markdown",
   "metadata": {},
   "source": [
    "Let's work out the proportion of energy submetered in REDD building 1:"
   ]
  },
  {
   "cell_type": "code",
   "execution_count": 6,
   "metadata": {},
   "outputs": [
    {
     "name": "stdout",
     "output_type": "stream",
     "text": [
      "Running MeterGroup.proportion_of_energy_submetered...\n",
      "Calculating total_energy for ElecMeterID(instance=2, building=1, dataset='REDD') ...   "
     ]
    },
    {
     "name": "stderr",
     "output_type": "stream",
     "text": [
      "/home/ayush/nilmtk/nilmtk/metergroup.py:922: UserWarning: As a quick implementation we only get Good Sections from the first meter in the meter group.  We should really return the intersection of the good sections for all meters.  This will be fixed...\n",
      "  warn(\"As a quick implementation we only get Good Sections from\"\n",
      "/home/ayush/anaconda3/envs/n2/lib/python3.6/site-packages/pandas/core/frame.py:6692: FutureWarning: Sorting because non-concatenation axis is not aligned. A future version\n",
      "of pandas will change to not sort by default.\n",
      "\n",
      "To accept the future behavior, pass 'sort=False'.\n",
      "\n",
      "To retain the current behavior and silence the warning, pass 'sort=True'.\n",
      "\n",
      "  sort=sort)\n"
     ]
    },
    {
     "name": "stdout",
     "output_type": "stream",
     "text": [
      "Calculating total_energy for ElecMeterID(instance=1, building=1, dataset='REDD') ...   "
     ]
    },
    {
     "name": "stderr",
     "output_type": "stream",
     "text": [
      "/home/ayush/nilmtk/nilmtk/electric.py:307: UserWarning: No shared AC types.  Using 'active' for submeter and 'apparent' for other.\n",
      "  \" and '{:s}' for other.\".format(ac_type, other_ac_type))\n"
     ]
    },
    {
     "name": "stdout",
     "output_type": "stream",
     "text": [
      "Calculating total_energy for ElecMeterID(instance=2, building=1, dataset='REDD') ...   "
     ]
    },
    {
     "data": {
      "text/plain": [
       "0.7599031850888346"
      ]
     },
     "execution_count": 6,
     "metadata": {},
     "output_type": "execute_result"
    }
   ],
   "source": [
    "elec.proportion_of_energy_submetered()"
   ]
  },
  {
   "cell_type": "markdown",
   "metadata": {},
   "source": [
    "Note that NILMTK has raised a warning that Mains uses a different type of power measurement than all the submeters, so it's not an entirely accurate comparison.  Which raises the question: which type of power measurements are used for the mains and submeters?  Let's find out..."
   ]
  },
  {
   "cell_type": "markdown",
   "metadata": {},
   "source": [
    "### Active, apparent and reactive power"
   ]
  },
  {
   "cell_type": "code",
   "execution_count": 7,
   "metadata": {},
   "outputs": [],
   "source": [
    "mains = elec.mains()"
   ]
  },
  {
   "cell_type": "code",
   "execution_count": 8,
   "metadata": {},
   "outputs": [
    {
     "data": {
      "text/plain": [
       "['apparent']"
      ]
     },
     "execution_count": 8,
     "metadata": {},
     "output_type": "execute_result"
    }
   ],
   "source": [
    "mains.available_ac_types('power')"
   ]
  },
  {
   "cell_type": "code",
   "execution_count": 9,
   "metadata": {},
   "outputs": [
    {
     "data": {
      "text/plain": [
       "['active']"
      ]
     },
     "execution_count": 9,
     "metadata": {},
     "output_type": "execute_result"
    }
   ],
   "source": [
    "elec.submeters().available_ac_types('power')"
   ]
  },
  {
   "cell_type": "code",
   "execution_count": 10,
   "metadata": {},
   "outputs": [
    {
     "name": "stdout",
     "output_type": "stream",
     "text": [
      "Loading data for meter ElecMeterID(instance=4, building=1, dataset='REDD')      dataset='REDD'), ElecMeterID(instance=4, building=1, dataset='REDD')))     \n",
      "Done loading data all meters for this chunk.\n",
      "Loading data for meter ElecMeterID(instance=20, building=1, dataset='REDD')      dataset='REDD'), ElecMeterID(instance=20, building=1, dataset='REDD')))     \n",
      "Done loading data all meters for this chunk.\n",
      "\n",
      "Done loading data all meters for this chunk.\n"
     ]
    },
    {
     "data": {
      "text/plain": [
       "[physical_quantity          power            \n",
       " type                      active    apparent\n",
       " 2011-04-18 09:22:09-04:00    NaN  344.173340\n",
       " 2011-04-18 09:22:12-04:00  261.0  341.170013\n",
       " 2011-04-18 09:22:15-04:00  261.0  341.973328\n",
       " 2011-04-18 09:22:18-04:00  262.0  341.683319\n",
       " 2011-04-18 09:22:21-04:00  262.0  341.796661\n",
       " 2011-04-18 09:22:24-04:00  261.0  341.330017\n",
       " 2011-04-18 09:22:27-04:00  261.0  341.223328\n",
       " 2011-04-18 09:22:30-04:00  260.0  341.250000\n",
       " 2011-04-18 09:22:33-04:00  260.0  341.503326\n",
       " 2011-04-18 09:22:36-04:00  262.0  342.196655\n",
       " 2011-04-18 09:22:39-04:00  266.0  345.356689\n",
       " 2011-04-18 09:22:42-04:00  260.0  342.736664\n",
       " 2011-04-18 09:22:45-04:00  261.0  342.610016\n",
       " 2011-04-18 09:22:48-04:00  261.0  342.683350\n",
       " 2011-04-18 09:22:51-04:00  267.0  344.553345\n",
       " 2011-04-18 09:22:54-04:00  262.0  341.613342\n",
       " 2011-04-18 09:22:57-04:00  264.0  344.770020\n",
       " 2011-04-18 09:23:00-04:00  267.0  345.350006\n",
       " 2011-04-18 09:23:03-04:00  266.0  344.976654\n",
       " 2011-04-18 09:23:06-04:00  260.0  343.896667\n",
       " 2011-04-18 09:23:09-04:00  260.0  344.713318\n",
       " 2011-04-18 09:23:12-04:00  260.0  344.549988\n",
       " 2011-04-18 09:23:15-04:00  260.0  345.026672\n",
       " 2011-04-18 09:23:18-04:00  260.0  345.353333\n",
       " 2011-04-18 09:23:21-04:00  264.0  344.380005\n",
       " 2011-04-18 09:23:24-04:00  264.0  345.903320\n",
       " 2011-04-18 09:23:27-04:00  263.0  344.033325\n",
       " 2011-04-18 09:23:30-04:00  263.0  346.293335\n",
       " 2011-04-18 09:23:33-04:00  266.0  345.863342\n",
       " 2011-04-18 09:23:36-04:00  267.0  345.149994\n",
       " ...                          ...         ...\n",
       " 2011-05-24 15:55:33-04:00  246.0  274.713348\n",
       " 2011-05-24 15:55:36-04:00  247.0  277.260010\n",
       " 2011-05-24 15:55:39-04:00  247.0  276.209991\n",
       " 2011-05-24 15:55:42-04:00  240.0  274.000000\n",
       " 2011-05-24 15:55:45-04:00  240.0  274.250000\n",
       " 2011-05-24 15:55:48-04:00  244.0  275.653320\n",
       " 2011-05-24 15:55:51-04:00  246.0  277.756653\n",
       " 2011-05-24 15:55:54-04:00  242.0  275.173340\n",
       " 2011-05-24 15:55:57-04:00  240.0  274.473328\n",
       " 2011-05-24 15:56:00-04:00  240.0  273.679993\n",
       " 2011-05-24 15:56:03-04:00  243.0  272.766663\n",
       " 2011-05-24 15:56:06-04:00  241.0  273.660004\n",
       " 2011-05-24 15:56:09-04:00  242.0  273.729980\n",
       " 2011-05-24 15:56:12-04:00  245.0  273.609985\n",
       " 2011-05-24 15:56:15-04:00  243.0  273.743347\n",
       " 2011-05-24 15:56:18-04:00  242.0  274.056671\n",
       " 2011-05-24 15:56:21-04:00  240.0  273.526672\n",
       " 2011-05-24 15:56:24-04:00  240.0  274.350006\n",
       " 2011-05-24 15:56:27-04:00  243.0  274.796692\n",
       " 2011-05-24 15:56:30-04:00  242.0  274.220001\n",
       " 2011-05-24 15:56:33-04:00  241.0  273.739990\n",
       " 2011-05-24 15:56:36-04:00    NaN  274.326660\n",
       " 2011-05-24 15:56:39-04:00    NaN  275.693329\n",
       " 2011-05-24 15:56:42-04:00    NaN  273.793335\n",
       " 2011-05-24 15:56:45-04:00    NaN  273.366669\n",
       " 2011-05-24 15:56:48-04:00    NaN  273.266663\n",
       " 2011-05-24 15:56:51-04:00    NaN  274.496674\n",
       " 2011-05-24 15:56:54-04:00    NaN  273.959991\n",
       " 2011-05-24 15:56:57-04:00    NaN  273.636658\n",
       " 2011-05-24 15:57:00-04:00    NaN  273.825012\n",
       " \n",
       " [1044698 rows x 2 columns]]"
      ]
     },
     "execution_count": 10,
     "metadata": {},
     "output_type": "execute_result"
    }
   ],
   "source": [
    "list(elec.load())"
   ]
  },
  {
   "cell_type": "markdown",
   "metadata": {},
   "source": [
    "### Total Energy"
   ]
  },
  {
   "cell_type": "code",
   "execution_count": 11,
   "metadata": {},
   "outputs": [
    {
     "name": "stdout",
     "output_type": "stream",
     "text": [
      "Calculating total_energy for ElecMeterID(instance=2, building=1, dataset='REDD') ...   "
     ]
    },
    {
     "data": {
      "text/plain": [
       "apparent    167.766283\n",
       "dtype: float64"
      ]
     },
     "execution_count": 11,
     "metadata": {},
     "output_type": "execute_result"
    }
   ],
   "source": [
    "elec.mains().total_energy() # returns kWh"
   ]
  },
  {
   "cell_type": "markdown",
   "metadata": {},
   "source": [
    "### Energy per submeter"
   ]
  },
  {
   "cell_type": "code",
   "execution_count": 12,
   "metadata": {},
   "outputs": [
    {
     "name": "stdout",
     "output_type": "stream",
     "text": [
      "15/16 MeterGroup(meters==19, building=1, dataset='REDD', appliances=[Appliance(type='unknown', instance=2)])e=1)])ce=1)])\n",
      "  ElecMeter(instance=3, building=1, dataset='REDD', appliances=[Appliance(type='electric oven', instance=1)])\n",
      "  ElecMeter(instance=4, building=1, dataset='REDD', appliances=[Appliance(type='electric oven', instance=1)])\n",
      "16/16 MeterGroup(meters= for ElecMeterID(instance=4, building=1, dataset='REDD') ...   \n",
      "  ElecMeter(instance=10, building=1, dataset='REDD', appliances=[Appliance(type='washer dryer', instance=1)])\n",
      "  ElecMeter(instance=20, building=1, dataset='REDD', appliances=[Appliance(type='washer dryer', instance=1)])\n",
      "Calculating total_energy for ElecMeterID(instance=20, building=1, dataset='REDD') ...   "
     ]
    },
    {
     "data": {
      "text/html": [
       "<div>\n",
       "<style scoped>\n",
       "    .dataframe tbody tr th:only-of-type {\n",
       "        vertical-align: middle;\n",
       "    }\n",
       "\n",
       "    .dataframe tbody tr th {\n",
       "        vertical-align: top;\n",
       "    }\n",
       "\n",
       "    .dataframe thead th {\n",
       "        text-align: right;\n",
       "    }\n",
       "</style>\n",
       "<table border=\"1\" class=\"dataframe\">\n",
       "  <thead>\n",
       "    <tr style=\"text-align: right;\">\n",
       "      <th></th>\n",
       "      <th>(5, 1, REDD)</th>\n",
       "      <th>(6, 1, REDD)</th>\n",
       "      <th>(7, 1, REDD)</th>\n",
       "      <th>(8, 1, REDD)</th>\n",
       "      <th>(9, 1, REDD)</th>\n",
       "      <th>(11, 1, REDD)</th>\n",
       "      <th>(12, 1, REDD)</th>\n",
       "      <th>(13, 1, REDD)</th>\n",
       "      <th>(14, 1, REDD)</th>\n",
       "      <th>(15, 1, REDD)</th>\n",
       "      <th>(16, 1, REDD)</th>\n",
       "      <th>(17, 1, REDD)</th>\n",
       "      <th>(18, 1, REDD)</th>\n",
       "      <th>(19, 1, REDD)</th>\n",
       "      <th>(((3, 1, REDD), (4, 1, REDD)),)</th>\n",
       "      <th>(((10, 1, REDD), (20, 1, REDD)),)</th>\n",
       "    </tr>\n",
       "  </thead>\n",
       "  <tbody>\n",
       "    <tr>\n",
       "      <th>active</th>\n",
       "      <td>44.750925</td>\n",
       "      <td>19.920875</td>\n",
       "      <td>16.786282</td>\n",
       "      <td>22.939649</td>\n",
       "      <td>30.734511</td>\n",
       "      <td>16.890262</td>\n",
       "      <td>5.221226</td>\n",
       "      <td>0.096302</td>\n",
       "      <td>0.411592</td>\n",
       "      <td>4.507334</td>\n",
       "      <td>2.256583</td>\n",
       "      <td>18.288595</td>\n",
       "      <td>11.811224</td>\n",
       "      <td>0.000085</td>\n",
       "      <td>8.81796</td>\n",
       "      <td>32.614809</td>\n",
       "    </tr>\n",
       "    <tr>\n",
       "      <th>apparent</th>\n",
       "      <td>NaN</td>\n",
       "      <td>NaN</td>\n",
       "      <td>NaN</td>\n",
       "      <td>NaN</td>\n",
       "      <td>NaN</td>\n",
       "      <td>NaN</td>\n",
       "      <td>NaN</td>\n",
       "      <td>NaN</td>\n",
       "      <td>NaN</td>\n",
       "      <td>NaN</td>\n",
       "      <td>NaN</td>\n",
       "      <td>NaN</td>\n",
       "      <td>NaN</td>\n",
       "      <td>NaN</td>\n",
       "      <td>NaN</td>\n",
       "      <td>NaN</td>\n",
       "    </tr>\n",
       "    <tr>\n",
       "      <th>reactive</th>\n",
       "      <td>NaN</td>\n",
       "      <td>NaN</td>\n",
       "      <td>NaN</td>\n",
       "      <td>NaN</td>\n",
       "      <td>NaN</td>\n",
       "      <td>NaN</td>\n",
       "      <td>NaN</td>\n",
       "      <td>NaN</td>\n",
       "      <td>NaN</td>\n",
       "      <td>NaN</td>\n",
       "      <td>NaN</td>\n",
       "      <td>NaN</td>\n",
       "      <td>NaN</td>\n",
       "      <td>NaN</td>\n",
       "      <td>NaN</td>\n",
       "      <td>NaN</td>\n",
       "    </tr>\n",
       "  </tbody>\n",
       "</table>\n",
       "</div>"
      ],
      "text/plain": [
       "          (5, 1, REDD)  (6, 1, REDD)  (7, 1, REDD)  (8, 1, REDD)  \\\n",
       "active       44.750925     19.920875     16.786282     22.939649   \n",
       "apparent           NaN           NaN           NaN           NaN   \n",
       "reactive           NaN           NaN           NaN           NaN   \n",
       "\n",
       "          (9, 1, REDD)  (11, 1, REDD)  (12, 1, REDD)  (13, 1, REDD)  \\\n",
       "active       30.734511      16.890262       5.221226       0.096302   \n",
       "apparent           NaN            NaN            NaN            NaN   \n",
       "reactive           NaN            NaN            NaN            NaN   \n",
       "\n",
       "          (14, 1, REDD)  (15, 1, REDD)  (16, 1, REDD)  (17, 1, REDD)  \\\n",
       "active         0.411592       4.507334       2.256583      18.288595   \n",
       "apparent            NaN            NaN            NaN            NaN   \n",
       "reactive            NaN            NaN            NaN            NaN   \n",
       "\n",
       "          (18, 1, REDD)  (19, 1, REDD)  (((3, 1, REDD), (4, 1, REDD)),)  \\\n",
       "active        11.811224       0.000085                          8.81796   \n",
       "apparent            NaN            NaN                              NaN   \n",
       "reactive            NaN            NaN                              NaN   \n",
       "\n",
       "          (((10, 1, REDD), (20, 1, REDD)),)  \n",
       "active                            32.614809  \n",
       "apparent                                NaN  \n",
       "reactive                                NaN  "
      ]
     },
     "execution_count": 12,
     "metadata": {},
     "output_type": "execute_result"
    }
   ],
   "source": [
    "energy_per_meter = elec.submeters().energy_per_meter() # kWh, again\n",
    "energy_per_meter"
   ]
  },
  {
   "cell_type": "markdown",
   "metadata": {},
   "source": [
    "column headings are the ElecMeter instance numbers."
   ]
  },
  {
   "cell_type": "markdown",
   "metadata": {},
   "source": [
    "The function `fraction_per_meter` does the same thing as `energy_per_submeter` but returns the fraction of energy per meter."
   ]
  },
  {
   "cell_type": "markdown",
   "metadata": {},
   "source": [
    "### Select meters on the basis of their energy consumption"
   ]
  },
  {
   "cell_type": "markdown",
   "metadata": {},
   "source": [
    "Let's make a new MeterGroup which only contains the ElecMeters which used more than 20 kWh:"
   ]
  },
  {
   "cell_type": "code",
   "execution_count": 13,
   "metadata": {},
   "outputs": [
    {
     "data": {
      "text/plain": [
       "(5, 1, REDD)                         44.750925\n",
       "(8, 1, REDD)                         22.939649\n",
       "(9, 1, REDD)                         30.734511\n",
       "(((10, 1, REDD), (20, 1, REDD)),)    32.614809\n",
       "Name: active, dtype: float64"
      ]
     },
     "execution_count": 13,
     "metadata": {},
     "output_type": "execute_result"
    }
   ],
   "source": [
    "# energy_per_meter is a DataFrame where each row is a \n",
    "# power type ('active', 'reactive' or 'apparent').\n",
    "# All appliance meters in REDD are record 'active' so just select\n",
    "# the 'active' row:\n",
    "energy_per_meter = energy_per_meter.loc['active']\n",
    "more_than_20 = energy_per_meter[energy_per_meter > 20]\n",
    "more_than_20"
   ]
  },
  {
   "cell_type": "code",
   "execution_count": 14,
   "metadata": {},
   "outputs": [
    {
     "data": {
      "text/plain": [
       "Index([                       (5, 1, 'REDD'),\n",
       "                              (8, 1, 'REDD'),\n",
       "                              (9, 1, 'REDD'),\n",
       "       (((10, 1, 'REDD'), (20, 1, 'REDD')),)],\n",
       "      dtype='object')"
      ]
     },
     "execution_count": 14,
     "metadata": {},
     "output_type": "execute_result"
    }
   ],
   "source": [
    "instances = more_than_20.index\n",
    "instances"
   ]
  },
  {
   "cell_type": "markdown",
   "metadata": {},
   "source": [
    "## Plot fraction of energy consumption of each appliance"
   ]
  },
  {
   "cell_type": "code",
   "execution_count": 15,
   "metadata": {
    "scrolled": true
   },
   "outputs": [
    {
     "name": "stdout",
     "output_type": "stream",
     "text": [
      "15/16 MeterGroup(meters==19, building=1, dataset='REDD', appliances=[Appliance(type='unknown', instance=2)])e=1)])ce=1)])\n",
      "  ElecMeter(instance=3, building=1, dataset='REDD', appliances=[Appliance(type='electric oven', instance=1)])\n",
      "  ElecMeter(instance=4, building=1, dataset='REDD', appliances=[Appliance(type='electric oven', instance=1)])\n",
      "16/16 MeterGroup(meters= for ElecMeterID(instance=4, building=1, dataset='REDD') ...   \n",
      "  ElecMeter(instance=10, building=1, dataset='REDD', appliances=[Appliance(type='washer dryer', instance=1)])\n",
      "  ElecMeter(instance=20, building=1, dataset='REDD', appliances=[Appliance(type='washer dryer', instance=1)])\n",
      "Calculating total_energy for ElecMeterID(instance=20, building=1, dataset='REDD') ...   "
     ]
    }
   ],
   "source": [
    "fraction = elec.submeters().fraction_per_meter().dropna()"
   ]
  },
  {
   "cell_type": "code",
   "execution_count": 16,
   "metadata": {},
   "outputs": [
    {
     "data": {
      "image/png": "[encoded data removed]",
      "text/plain": [
       "<Figure size 720x2160 with 1 Axes>"
      ]
     },
     "metadata": {},
     "output_type": "display_data"
    }
   ],
   "source": [
    "# Create convenient labels\n",
    "labels = elec.get_labels(fraction.index)\n",
    "plt.figure(figsize=(10,30))\n",
    "fraction.plot(kind='pie', labels=labels);"
   ]
  },
  {
   "cell_type": "markdown",
   "metadata": {},
   "source": [
    "### Draw wiring diagram"
   ]
  },
  {
   "cell_type": "markdown",
   "metadata": {},
   "source": [
    "We can get the wiring diagram for the MeterGroup:"
   ]
  },
  {
   "cell_type": "code",
   "execution_count": 15,
   "metadata": {},
   "outputs": [
    {
     "name": "stderr",
     "output_type": "stream",
     "text": [
      "/home/ayush/anaconda3/envs/n2/lib/python3.6/site-packages/networkx/drawing/nx_pylab.py:579: MatplotlibDeprecationWarning: \n",
      "The iterable function was deprecated in Matplotlib 3.1 and will be removed in 3.3. Use np.iterable instead.\n",
      "  if not cb.iterable(width):\n"
     ]
    },
    {
     "data": {
      "text/plain": [
       "(<networkx.classes.digraph.DiGraph at 0x7f1c639052b0>,\n",
       " <matplotlib.axes._axes.Axes at 0x7f1c63b19748>)"
      ]
     },
     "execution_count": 15,
     "metadata": {},
     "output_type": "execute_result"
    },
    {
     "data": {
      "image/png": "[encoded data removed]",
      "text/plain": [
       "<Figure size 432x288 with 1 Axes>"
      ]
     },
     "metadata": {},
     "output_type": "display_data"
    }
   ],
   "source": [
    "elec.draw_wiring_graph()"
   ]
  },
  {
   "cell_type": "markdown",
   "metadata": {},
   "source": [
    "It's not very pretty but it shows that meters (1,2) (the site meters) are upstream of all other meters."
   ]
  },
  {
   "cell_type": "markdown",
   "metadata": {},
   "source": [
    "Buildings in REDD have only two levels in their meter hierarchy (mains and submeters).  If there were more than two levels then it might be useful to get only the meters immediately downstream of mains:"
   ]
  },
  {
   "cell_type": "code",
   "execution_count": 16,
   "metadata": {
    "scrolled": true
   },
   "outputs": [
    {
     "data": {
      "text/plain": [
       "MeterGroup(meters=\n",
       "  ElecMeter(instance=5, building=1, dataset='REDD', appliances=[Appliance(type='fridge', instance=1)])\n",
       "  ElecMeter(instance=6, building=1, dataset='REDD', appliances=[Appliance(type='dish washer', instance=1)])\n",
       "  ElecMeter(instance=7, building=1, dataset='REDD', appliances=[Appliance(type='sockets', instance=1)])\n",
       "  ElecMeter(instance=8, building=1, dataset='REDD', appliances=[Appliance(type='sockets', instance=2)])\n",
       "  ElecMeter(instance=9, building=1, dataset='REDD', appliances=[Appliance(type='light', instance=1)])\n",
       "  ElecMeter(instance=11, building=1, dataset='REDD', appliances=[Appliance(type='microwave', instance=1)])\n",
       "  ElecMeter(instance=12, building=1, dataset='REDD', appliances=[Appliance(type='unknown', instance=1)])\n",
       "  ElecMeter(instance=13, building=1, dataset='REDD', appliances=[Appliance(type='electric space heater', instance=1)])\n",
       "  ElecMeter(instance=14, building=1, dataset='REDD', appliances=[Appliance(type='electric stove', instance=1)])\n",
       "  ElecMeter(instance=15, building=1, dataset='REDD', appliances=[Appliance(type='sockets', instance=3)])\n",
       "  ElecMeter(instance=16, building=1, dataset='REDD', appliances=[Appliance(type='sockets', instance=4)])\n",
       "  ElecMeter(instance=17, building=1, dataset='REDD', appliances=[Appliance(type='light', instance=2)])\n",
       "  ElecMeter(instance=18, building=1, dataset='REDD', appliances=[Appliance(type='light', instance=3)])\n",
       "  ElecMeter(instance=19, building=1, dataset='REDD', appliances=[Appliance(type='unknown', instance=2)])\n",
       "  ElecMeter(instance=3, building=1, dataset='REDD', appliances=[Appliance(type='electric oven', instance=1)])\n",
       "  ElecMeter(instance=4, building=1, dataset='REDD', appliances=[Appliance(type='electric oven', instance=1)])\n",
       "  ElecMeter(instance=10, building=1, dataset='REDD', appliances=[Appliance(type='washer dryer', instance=1)])\n",
       "  ElecMeter(instance=20, building=1, dataset='REDD', appliances=[Appliance(type='washer dryer', instance=1)])\n",
       ")"
      ]
     },
     "execution_count": 16,
     "metadata": {},
     "output_type": "execute_result"
    }
   ],
   "source": [
    "elec.meters_directly_downstream_of_mains()"
   ]
  },
  {
   "cell_type": "markdown",
   "metadata": {},
   "source": [
    "### Plot appliances when they are in use "
   ]
  },
  {
   "cell_type": "code",
   "execution_count": 20,
   "metadata": {},
   "outputs": [
    {
     "name": "stdout",
     "output_type": "stream",
     "text": [
      "Loading data for meter ElecMeterID(instance=4, building=1, dataset='REDD')     \n",
      "Done loading data all meters for this chunk.\n",
      "Loading data for meter ElecMeterID(instance=20, building=1, dataset='REDD')     \n",
      "Done loading data all meters for this chunk.\n"
     ]
    },
    {
     "data": {
      "text/plain": [
       "<matplotlib.axes._subplots.AxesSubplot at 0x7f39ee94a898>"
      ]
     },
     "execution_count": 20,
     "metadata": {},
     "output_type": "execute_result"
    },
    {
     "data": {
      "image/png": "[encoded data removed]",
      "text/plain": [
       "<Figure size 936x720 with 1 Axes>"
      ]
     },
     "metadata": {},
     "output_type": "display_data"
    }
   ],
   "source": [
    "sns.set_palette(\"Set3\", n_colors=12)\n",
    "# Set a threshold to remove residual power noise when devices are off\n",
    "elec.plot_when_on(on_power_threshold = 40)"
   ]
  },
  {
   "cell_type": "markdown",
   "metadata": {},
   "source": [
    "## Stats and info for individual meters"
   ]
  },
  {
   "cell_type": "markdown",
   "metadata": {},
   "source": [
    "The `ElecMeter` class represents a single electricity meter.  Each `ElecMeter` has a list of associated `Appliance` objects.  `ElecMeter` has many of the same stats methods as `MeterGroup` such as `total_energy` and `available_power_ac_types` and `power_series` and `power_series_all_data`.  We will now explore some more stats functions (many of which are also available on `MeterGroup`)..."
   ]
  },
  {
   "cell_type": "code",
   "execution_count": 17,
   "metadata": {},
   "outputs": [],
   "source": [
    "fridge_meter = elec['fridge']"
   ]
  },
  {
   "cell_type": "markdown",
   "metadata": {},
   "source": [
    "### Get upstream meter"
   ]
  },
  {
   "cell_type": "code",
   "execution_count": 18,
   "metadata": {},
   "outputs": [
    {
     "data": {
      "text/plain": [
       "MeterGroup(meters=\n",
       "  ElecMeter(instance=1, building=1, dataset='REDD', site_meter, appliances=[])\n",
       "  ElecMeter(instance=2, building=1, dataset='REDD', site_meter, appliances=[])\n",
       ")"
      ]
     },
     "execution_count": 18,
     "metadata": {},
     "output_type": "execute_result"
    }
   ],
   "source": [
    "fridge_meter.upstream_meter() # happens to be the mains meter group!"
   ]
  },
  {
   "cell_type": "markdown",
   "metadata": {},
   "source": [
    "### Metadata about the class of meter"
   ]
  },
  {
   "cell_type": "code",
   "execution_count": 19,
   "metadata": {},
   "outputs": [
    {
     "data": {
      "text/plain": [
       "{'model': 'eMonitor',\n",
       " 'manufacturer': 'Powerhouse Dynamics',\n",
       " 'manufacturer_url': 'http://powerhousedynamics.com',\n",
       " 'description': 'Measures circuit-level power demand.  Comes with 24 CTs. This FAQ page suggests the eMonitor measures real (active) power: http://www.energycircle.com/node/14103  although the REDD readme.txt says all channels record apparent power.\\n',\n",
       " 'sample_period': 3,\n",
       " 'max_sample_period': 50,\n",
       " 'measurements': [{'physical_quantity': 'power',\n",
       "   'type': 'active',\n",
       "   'upper_limit': 5000,\n",
       "   'lower_limit': 0}],\n",
       " 'wireless': False}"
      ]
     },
     "execution_count": 19,
     "metadata": {},
     "output_type": "execute_result"
    }
   ],
   "source": [
    "fridge_meter.device"
   ]
  },
  {
   "cell_type": "markdown",
   "metadata": {},
   "source": [
    "### Dominant appliance"
   ]
  },
  {
   "cell_type": "markdown",
   "metadata": {},
   "source": [
    "If the metadata specifies that a meter has multiple meters connected to it then one of those can be specified as the 'dominant' appliance, and this appliance can be retrieved with this method:"
   ]
  },
  {
   "cell_type": "code",
   "execution_count": 20,
   "metadata": {},
   "outputs": [
    {
     "data": {
      "text/plain": [
       "Appliance(type='fridge', instance=1)"
      ]
     },
     "execution_count": 20,
     "metadata": {},
     "output_type": "execute_result"
    }
   ],
   "source": [
    "fridge_meter.dominant_appliance()"
   ]
  },
  {
   "cell_type": "markdown",
   "metadata": {},
   "source": [
    "### Total energy"
   ]
  },
  {
   "cell_type": "code",
   "execution_count": 21,
   "metadata": {},
   "outputs": [
    {
     "data": {
      "text/plain": [
       "active    44.750925\n",
       "dtype: float64"
      ]
     },
     "execution_count": 21,
     "metadata": {},
     "output_type": "execute_result"
    }
   ],
   "source": [
    "fridge_meter.total_energy() # kWh"
   ]
  },
  {
   "cell_type": "markdown",
   "metadata": {},
   "source": [
    "### Get good sections"
   ]
  },
  {
   "cell_type": "markdown",
   "metadata": {},
   "source": [
    "If we plot the raw power data then we see there is one large gap where, supposedly, the metering system was not working.  (if we were to zoom in then we'd see lots of smaller gaps too):"
   ]
  },
  {
   "cell_type": "code",
   "execution_count": 22,
   "metadata": {},
   "outputs": [
    {
     "data": {
      "text/plain": [
       "<matplotlib.axes._subplots.AxesSubplot at 0x7f1c638ed208>"
      ]
     },
     "execution_count": 22,
     "metadata": {},
     "output_type": "execute_result"
    },
    {
     "data": {
      "image/png": "[encoded data removed]",
      "text/plain": [
       "<Figure size 432x288 with 1 Axes>"
      ]
     },
     "metadata": {
      "needs_background": "light"
     },
     "output_type": "display_data"
    }
   ],
   "source": [
    "fridge_meter.plot()"
   ]
  },
  {
   "cell_type": "markdown",
   "metadata": {},
   "source": [
    "We can automatically identify the 'good sections' (i.e. the sections where every pair of consecutive samples is less than `max_sample_period` specified in the dataset metadata):"
   ]
  },
  {
   "cell_type": "code",
   "execution_count": 23,
   "metadata": {},
   "outputs": [],
   "source": [
    "good_sections = fridge_meter.good_sections(full_results=True)\n",
    "# specifying full_results=False would give us a simple list of \n",
    "# TimeFrames.  But we want the full GoodSectionsResults object so we can\n",
    "# plot the good sections..."
   ]
  },
  {
   "cell_type": "code",
   "execution_count": 24,
   "metadata": {},
   "outputs": [
    {
     "data": {
      "text/plain": [
       "<matplotlib.axes._subplots.AxesSubplot at 0x7f1c6174ed68>"
      ]
     },
     "execution_count": 24,
     "metadata": {},
     "output_type": "execute_result"
    },
    {
     "data": {
      "image/png": "[encoded data removed]",
      "text/plain": [
       "<Figure size 432x288 with 1 Axes>"
      ]
     },
     "metadata": {
      "needs_background": "light"
     },
     "output_type": "display_data"
    }
   ],
   "source": [
    "good_sections.plot()"
   ]
  },
  {
   "cell_type": "markdown",
   "metadata": {},
   "source": [
    "The blue chunks show where the data is good.  The white gap is the large gap seen in the raw power data.  There are lots of smaller gaps that we cannot see at this zoom level."
   ]
  },
  {
   "cell_type": "markdown",
   "metadata": {},
   "source": [
    "We can also see the exact sections identified:"
   ]
  },
  {
   "cell_type": "code",
   "execution_count": 25,
   "metadata": {
    "scrolled": true
   },
   "outputs": [
    {
     "data": {
      "text/plain": [
       "[TimeFrame(start='2011-04-18 09:22:13-04:00', end='2011-04-18 14:00:33-04:00', empty=False),\n",
       " TimeFrame(start='2011-04-18 14:03:11-04:00', end='2011-04-19 18:45:09-04:00', empty=False),\n",
       " TimeFrame(start='2011-04-19 20:20:05-04:00', end='2011-04-20 01:54:26-04:00', empty=False),\n",
       " TimeFrame(start='2011-04-20 01:55:33-04:00', end='2011-04-21 06:14:43-04:00', empty=False),\n",
       " TimeFrame(start='2011-04-21 06:17:22-04:00', end='2011-04-21 17:45:02-04:00', empty=False),\n",
       " TimeFrame(start='2011-04-21 19:41:23-04:00', end='2011-04-22 22:46:53-04:00', empty=False),\n",
       " TimeFrame(start='2011-04-22 22:48:31-04:00', end='2011-04-24 03:48:44-04:00', empty=False),\n",
       " TimeFrame(start='2011-04-24 03:52:28-04:00', end='2011-04-27 02:50:14-04:00', empty=False),\n",
       " TimeFrame(start='2011-04-27 02:51:25-04:00', end='2011-04-27 03:17:31-04:00', empty=False),\n",
       " TimeFrame(start='2011-04-27 03:21:19-04:00', end='2011-04-29 23:07:52-04:00', empty=False),\n",
       " TimeFrame(start='2011-04-29 23:10:38-04:00', end='2011-05-01 09:44:36-04:00', empty=False),\n",
       " TimeFrame(start='2011-05-01 09:47:22-04:00', end='2011-05-02 17:04:54-04:00', empty=False),\n",
       " TimeFrame(start='2011-05-02 17:07:31-04:00', end='2011-05-03 17:30:12-04:00', empty=False),\n",
       " TimeFrame(start='2011-05-03 17:32:53-04:00', end='2011-05-03 17:33:17-04:00', empty=False),\n",
       " TimeFrame(start='2011-05-06 10:51:50-04:00', end='2011-05-07 02:38:12-04:00', empty=False),\n",
       " TimeFrame(start='2011-05-07 02:40:47-04:00', end='2011-05-08 13:32:42-04:00', empty=False),\n",
       " TimeFrame(start='2011-05-08 13:33:34-04:00', end='2011-05-11 03:16:14-04:00', empty=False),\n",
       " TimeFrame(start='2011-05-11 03:19:47-04:00', end='2011-05-12 17:48:31-04:00', empty=False),\n",
       " TimeFrame(start='2011-05-12 20:14:27-04:00', end='2011-05-22 01:00:03-04:00', empty=False),\n",
       " TimeFrame(start='2011-05-22 01:01:01-04:00', end='2011-05-22 16:03:54-04:00', empty=False),\n",
       " TimeFrame(start='2011-05-22 16:04:50-04:00', end='2011-05-22 23:38:54-04:00', empty=False),\n",
       " TimeFrame(start='2011-05-22 23:41:39-04:00', end='2011-05-23 09:22:00-04:00', empty=False),\n",
       " TimeFrame(start='2011-05-23 10:31:31-04:00', end='2011-05-24 14:32:01-04:00', empty=False),\n",
       " TimeFrame(start='2011-05-24 15:55:38-04:00', end='2011-05-24 15:56:34-04:00', empty=False)]"
      ]
     },
     "execution_count": 25,
     "metadata": {},
     "output_type": "execute_result"
    }
   ],
   "source": [
    "good_sections.combined()"
   ]
  },
  {
   "cell_type": "markdown",
   "metadata": {},
   "source": [
    "### Dropout rate"
   ]
  },
  {
   "cell_type": "markdown",
   "metadata": {},
   "source": [
    "As well as large gaps appearing because the entire system is down, we also get frequent small gaps from wireless sensors dropping data.  This is sometimes called 'dropout'.  The dropout rate is a number between 0 and 1 which specifies the proportion of missing samples.  A dropout rate of 0 means no samples are missing.  A value of 1 would mean all samples are missing:"
   ]
  },
  {
   "cell_type": "code",
   "execution_count": 26,
   "metadata": {},
   "outputs": [
    {
     "data": {
      "text/plain": [
       "0.21922786156570626"
      ]
     },
     "execution_count": 26,
     "metadata": {},
     "output_type": "execute_result"
    }
   ],
   "source": [
    "fridge_meter.dropout_rate()"
   ]
  },
  {
   "cell_type": "markdown",
   "metadata": {},
   "source": [
    "Note that the dropout rate has gone down (which is good!) now that we are ignoring the gaps.  This value is probably more representative of the performance of the wireless system."
   ]
  },
  {
   "cell_type": "markdown",
   "metadata": {},
   "source": [
    "## Select subgroups of meters"
   ]
  },
  {
   "cell_type": "markdown",
   "metadata": {},
   "source": [
    "We use `ElecMeter.select_using_appliances()` to select a new MeterGroup using an metadata field.  For example, to get all the washer dryers in the whole of the REDD dataset:"
   ]
  },
  {
   "cell_type": "code",
   "execution_count": 27,
   "metadata": {},
   "outputs": [
    {
     "data": {
      "text/plain": [
       "MeterGroup(meters=\n",
       "  ElecMeter(instance=10, building=1, dataset='REDD', appliances=[Appliance(type='washer dryer', instance=1)])\n",
       "  ElecMeter(instance=20, building=1, dataset='REDD', appliances=[Appliance(type='washer dryer', instance=1)])\n",
       "  ElecMeter(instance=7, building=2, dataset='REDD', appliances=[Appliance(type='washer dryer', instance=1)])\n",
       "  ElecMeter(instance=13, building=3, dataset='REDD', appliances=[Appliance(type='washer dryer', instance=1)])\n",
       "  ElecMeter(instance=14, building=3, dataset='REDD', appliances=[Appliance(type='washer dryer', instance=1)])\n",
       "  ElecMeter(instance=7, building=4, dataset='REDD', appliances=[Appliance(type='washer dryer', instance=1)])\n",
       "  ElecMeter(instance=8, building=5, dataset='REDD', appliances=[Appliance(type='washer dryer', instance=1)])\n",
       "  ElecMeter(instance=9, building=5, dataset='REDD', appliances=[Appliance(type='washer dryer', instance=1)])\n",
       "  ElecMeter(instance=4, building=6, dataset='REDD', appliances=[Appliance(type='washer dryer', instance=1)])\n",
       ")"
      ]
     },
     "execution_count": 27,
     "metadata": {},
     "output_type": "execute_result"
    }
   ],
   "source": [
    "import nilmtk\n",
    "nilmtk.global_meter_group.select_using_appliances(type='washer dryer')"
   ]
  },
  {
   "cell_type": "markdown",
   "metadata": {},
   "source": [
    "Or select multiple appliance types:"
   ]
  },
  {
   "cell_type": "code",
   "execution_count": 28,
   "metadata": {},
   "outputs": [
    {
     "data": {
      "text/plain": [
       "MeterGroup(meters=\n",
       "  ElecMeter(instance=5, building=1, dataset='REDD', appliances=[Appliance(type='fridge', instance=1)])\n",
       "  ElecMeter(instance=11, building=1, dataset='REDD', appliances=[Appliance(type='microwave', instance=1)])\n",
       ")"
      ]
     },
     "execution_count": 28,
     "metadata": {},
     "output_type": "execute_result"
    }
   ],
   "source": [
    "elec.select_using_appliances(type=['fridge', 'microwave'])"
   ]
  },
  {
   "cell_type": "markdown",
   "metadata": {},
   "source": [
    "Or all appliances in the 'heating' category:"
   ]
  },
  {
   "cell_type": "code",
   "execution_count": 29,
   "metadata": {},
   "outputs": [
    {
     "data": {
      "text/plain": [
       "MeterGroup(meters=\n",
       "  ElecMeter(instance=13, building=1, dataset='REDD', appliances=[Appliance(type='electric space heater', instance=1)])\n",
       "  ElecMeter(instance=10, building=3, dataset='REDD', appliances=[Appliance(type='electric furnace', instance=1)])\n",
       "  ElecMeter(instance=4, building=4, dataset='REDD', appliances=[Appliance(type='electric furnace', instance=1)])\n",
       "  ElecMeter(instance=6, building=5, dataset='REDD', appliances=[Appliance(type='electric furnace', instance=1)])\n",
       "  ElecMeter(instance=12, building=5, dataset='REDD', appliances=[Appliance(type='electric space heater', instance=1)])\n",
       "  ElecMeter(instance=13, building=5, dataset='REDD', appliances=[Appliance(type='electric space heater', instance=1)])\n",
       "  ElecMeter(instance=12, building=6, dataset='REDD', appliances=[Appliance(type='electric space heater', instance=1)])\n",
       ")"
      ]
     },
     "execution_count": 29,
     "metadata": {},
     "output_type": "execute_result"
    }
   ],
   "source": [
    "nilmtk.global_meter_group.select_using_appliances(category='heating')"
   ]
  },
  {
   "cell_type": "markdown",
   "metadata": {},
   "source": [
    "Or all appliances in building 1 with a single-phase induction motor(!):"
   ]
  },
  {
   "cell_type": "code",
   "execution_count": 30,
   "metadata": {},
   "outputs": [
    {
     "data": {
      "text/plain": [
       "MeterGroup(meters=\n",
       "  ElecMeter(instance=5, building=1, dataset='REDD', appliances=[Appliance(type='fridge', instance=1)])\n",
       "  ElecMeter(instance=6, building=1, dataset='REDD', appliances=[Appliance(type='dish washer', instance=1)])\n",
       "  ElecMeter(instance=10, building=1, dataset='REDD', appliances=[Appliance(type='washer dryer', instance=1)])\n",
       "  ElecMeter(instance=20, building=1, dataset='REDD', appliances=[Appliance(type='washer dryer', instance=1)])\n",
       ")"
      ]
     },
     "execution_count": 30,
     "metadata": {},
     "output_type": "execute_result"
    }
   ],
   "source": [
    "nilmtk.global_meter_group.select_using_appliances(building=1, category='single-phase induction motor')"
   ]
  },
  {
   "cell_type": "markdown",
   "metadata": {},
   "source": [
    "(NILMTK imports the 'common metadata' from the NILM Metadata project, which includes a wide range of different [category taxonomies](http://nilm-metadata.readthedocs.org/en/latest/central_metadata.html#appliancetype))"
   ]
  },
  {
   "cell_type": "code",
   "execution_count": 31,
   "metadata": {},
   "outputs": [
    {
     "data": {
      "text/plain": [
       "MeterGroup(meters=\n",
       "  ElecMeter(instance=7, building=2, dataset='REDD', appliances=[Appliance(type='washer dryer', instance=1)])\n",
       "  ElecMeter(instance=10, building=2, dataset='REDD', appliances=[Appliance(type='dish washer', instance=1)])\n",
       "  ElecMeter(instance=11, building=2, dataset='REDD', appliances=[Appliance(type='waste disposal unit', instance=1)])\n",
       ")"
      ]
     },
     "execution_count": 31,
     "metadata": {},
     "output_type": "execute_result"
    }
   ],
   "source": [
    "nilmtk.global_meter_group.select_using_appliances(building=2, category='laundry appliances')"
   ]
  },
  {
   "cell_type": "markdown",
   "metadata": {},
   "source": [
    "### Select a group of meters from properties of the meters (not the appliances)"
   ]
  },
  {
   "cell_type": "code",
   "execution_count": 32,
   "metadata": {},
   "outputs": [
    {
     "data": {
      "text/plain": [
       "MeterGroup(meters=\n",
       "  ElecMeter(instance=1, building=1, dataset='REDD', site_meter, appliances=[])\n",
       "  ElecMeter(instance=2, building=1, dataset='REDD', site_meter, appliances=[])\n",
       ")"
      ]
     },
     "execution_count": 32,
     "metadata": {},
     "output_type": "execute_result"
    }
   ],
   "source": [
    "elec.select(device_model='REDD_whole_house')"
   ]
  },
  {
   "cell_type": "code",
   "execution_count": 33,
   "metadata": {},
   "outputs": [
    {
     "data": {
      "text/plain": [
       "MeterGroup(meters=\n",
       "  ElecMeter(instance=5, building=1, dataset='REDD', appliances=[Appliance(type='fridge', instance=1)])\n",
       "  ElecMeter(instance=6, building=1, dataset='REDD', appliances=[Appliance(type='dish washer', instance=1)])\n",
       "  ElecMeter(instance=7, building=1, dataset='REDD', appliances=[Appliance(type='sockets', instance=1)])\n",
       "  ElecMeter(instance=8, building=1, dataset='REDD', appliances=[Appliance(type='sockets', instance=2)])\n",
       "  ElecMeter(instance=9, building=1, dataset='REDD', appliances=[Appliance(type='light', instance=1)])\n",
       "  ElecMeter(instance=11, building=1, dataset='REDD', appliances=[Appliance(type='microwave', instance=1)])\n",
       "  ElecMeter(instance=12, building=1, dataset='REDD', appliances=[Appliance(type='unknown', instance=1)])\n",
       "  ElecMeter(instance=13, building=1, dataset='REDD', appliances=[Appliance(type='electric space heater', instance=1)])\n",
       "  ElecMeter(instance=14, building=1, dataset='REDD', appliances=[Appliance(type='electric stove', instance=1)])\n",
       "  ElecMeter(instance=15, building=1, dataset='REDD', appliances=[Appliance(type='sockets', instance=3)])\n",
       "  ElecMeter(instance=16, building=1, dataset='REDD', appliances=[Appliance(type='sockets', instance=4)])\n",
       "  ElecMeter(instance=17, building=1, dataset='REDD', appliances=[Appliance(type='light', instance=2)])\n",
       "  ElecMeter(instance=18, building=1, dataset='REDD', appliances=[Appliance(type='light', instance=3)])\n",
       "  ElecMeter(instance=19, building=1, dataset='REDD', appliances=[Appliance(type='unknown', instance=2)])\n",
       "  MeterGroup(meters=\n",
       "    ElecMeter(instance=3, building=1, dataset='REDD', appliances=[Appliance(type='electric oven', instance=1)])\n",
       "    ElecMeter(instance=4, building=1, dataset='REDD', appliances=[Appliance(type='electric oven', instance=1)])\n",
       "  )\n",
       "  MeterGroup(meters=\n",
       "    ElecMeter(instance=10, building=1, dataset='REDD', appliances=[Appliance(type='washer dryer', instance=1)])\n",
       "    ElecMeter(instance=20, building=1, dataset='REDD', appliances=[Appliance(type='washer dryer', instance=1)])\n",
       "  )\n",
       ")"
      ]
     },
     "execution_count": 33,
     "metadata": {},
     "output_type": "execute_result"
    }
   ],
   "source": [
    "elec.select(sample_period=3)"
   ]
  },
  {
   "cell_type": "markdown",
   "metadata": {},
   "source": [
    "## Select a single meter from a MeterGroup"
   ]
  },
  {
   "cell_type": "markdown",
   "metadata": {},
   "source": [
    "We use `[]` to retrive a single `ElecMeter` from a `MeterGroup`."
   ]
  },
  {
   "cell_type": "markdown",
   "metadata": {},
   "source": [
    "### Search for a meter using appliances connected to each meter"
   ]
  },
  {
   "cell_type": "code",
   "execution_count": 34,
   "metadata": {},
   "outputs": [
    {
     "data": {
      "text/plain": [
       "ElecMeter(instance=5, building=1, dataset='REDD', appliances=[Appliance(type='fridge', instance=1)])"
      ]
     },
     "execution_count": 34,
     "metadata": {},
     "output_type": "execute_result"
    }
   ],
   "source": [
    "elec['fridge']"
   ]
  },
  {
   "cell_type": "markdown",
   "metadata": {},
   "source": [
    "Appliances are uniquely identified within a building by a `type` (fridge, kettle, television, etc.) and an `instance` number.  If we do not specify an instance number then `ElecMeter` retrieves instance 1 (instance numbering starts from 1).  If you want a different instance then just do this:"
   ]
  },
  {
   "cell_type": "code",
   "execution_count": 35,
   "metadata": {},
   "outputs": [
    {
     "data": {
      "text/plain": [
       "ElecMeter(instance=17, building=1, dataset='REDD', appliances=[Appliance(type='light', instance=2)])"
      ]
     },
     "execution_count": 35,
     "metadata": {},
     "output_type": "execute_result"
    }
   ],
   "source": [
    "elec['light', 2]"
   ]
  },
  {
   "cell_type": "markdown",
   "metadata": {},
   "source": [
    "To uniquely identify an appliance in `nilmtk.global_meter_group` then we must specify the dataset name, building instance number, appliance type and appliance instance in a dict:"
   ]
  },
  {
   "cell_type": "code",
   "execution_count": 36,
   "metadata": {},
   "outputs": [
    {
     "data": {
      "text/plain": [
       "ElecMeter(instance=5, building=1, dataset='REDD', appliances=[Appliance(type='fridge', instance=1)])"
      ]
     },
     "execution_count": 36,
     "metadata": {},
     "output_type": "execute_result"
    }
   ],
   "source": [
    "import nilmtk\n",
    "nilmtk.global_meter_group[{'dataset': 'REDD', 'building': 1, 'type': 'fridge', 'instance': 1}]"
   ]
  },
  {
   "cell_type": "markdown",
   "metadata": {},
   "source": [
    "### Search for a meter using details of the ElecMeter"
   ]
  },
  {
   "cell_type": "markdown",
   "metadata": {},
   "source": [
    "get ElecMeter with instance = 1:"
   ]
  },
  {
   "cell_type": "code",
   "execution_count": 37,
   "metadata": {},
   "outputs": [
    {
     "data": {
      "text/plain": [
       "ElecMeter(instance=1, building=1, dataset='REDD', site_meter, appliances=[])"
      ]
     },
     "execution_count": 37,
     "metadata": {},
     "output_type": "execute_result"
    }
   ],
   "source": [
    "elec[1]"
   ]
  },
  {
   "cell_type": "markdown",
   "metadata": {},
   "source": [
    "### Instance numbering"
   ]
  },
  {
   "cell_type": "markdown",
   "metadata": {},
   "source": [
    "ElecMeter and Appliance instance numbers uniquely identify the meter or appliance type within the *building*, not globally.  To uniquely identify a meter globally, we need three keys:"
   ]
  },
  {
   "cell_type": "code",
   "execution_count": 38,
   "metadata": {},
   "outputs": [
    {
     "data": {
      "text/plain": [
       "ElecMeter(instance=8, building=1, dataset='REDD', appliances=[Appliance(type='sockets', instance=2)])"
      ]
     },
     "execution_count": 38,
     "metadata": {},
     "output_type": "execute_result"
    }
   ],
   "source": [
    "from nilmtk.elecmeter import ElecMeterID \n",
    "# ElecMeterID is a namedtuple for uniquely identifying each ElecMeter\n",
    "\n",
    "nilmtk.global_meter_group[ElecMeterID(instance=8, building=1, dataset='REDD')]"
   ]
  },
  {
   "cell_type": "markdown",
   "metadata": {},
   "source": [
    "### Select nested MeterGroup"
   ]
  },
  {
   "cell_type": "markdown",
   "metadata": {},
   "source": [
    "We can also select a single, existing nested MeterGroup.  There are two ways to specify a nested MeterGroup:"
   ]
  },
  {
   "cell_type": "code",
   "execution_count": 39,
   "metadata": {},
   "outputs": [
    {
     "data": {
      "text/plain": [
       "MeterGroup(meters=\n",
       "  ElecMeter(instance=3, building=1, dataset='REDD', appliances=[Appliance(type='electric oven', instance=1)])\n",
       "  ElecMeter(instance=4, building=1, dataset='REDD', appliances=[Appliance(type='electric oven', instance=1)])\n",
       ")"
      ]
     },
     "execution_count": 39,
     "metadata": {},
     "output_type": "execute_result"
    }
   ],
   "source": [
    "elec[[ElecMeterID(instance=3, building=1, dataset='REDD'), \n",
    "      ElecMeterID(instance=4, building=1, dataset='REDD')]]"
   ]
  },
  {
   "cell_type": "code",
   "execution_count": 40,
   "metadata": {},
   "outputs": [
    {
     "data": {
      "text/plain": [
       "MeterGroup(meters=\n",
       "  ElecMeter(instance=3, building=1, dataset='REDD', appliances=[Appliance(type='electric oven', instance=1)])\n",
       "  ElecMeter(instance=4, building=1, dataset='REDD', appliances=[Appliance(type='electric oven', instance=1)])\n",
       ")"
      ]
     },
     "execution_count": 40,
     "metadata": {},
     "output_type": "execute_result"
    }
   ],
   "source": [
    "elec[ElecMeterID(instance=(3,4), building=1, dataset='REDD')]"
   ]
  },
  {
   "cell_type": "markdown",
   "metadata": {},
   "source": [
    "We can also specify the mains by asking for meter instance 0:"
   ]
  },
  {
   "cell_type": "code",
   "execution_count": 41,
   "metadata": {},
   "outputs": [
    {
     "data": {
      "text/plain": [
       "MeterGroup(meters=\n",
       "  ElecMeter(instance=1, building=1, dataset='REDD', site_meter, appliances=[])\n",
       "  ElecMeter(instance=2, building=1, dataset='REDD', site_meter, appliances=[])\n",
       ")"
      ]
     },
     "execution_count": 41,
     "metadata": {},
     "output_type": "execute_result"
    }
   ],
   "source": [
    "elec[ElecMeterID(instance=0, building=1, dataset='REDD')]"
   ]
  },
  {
   "cell_type": "markdown",
   "metadata": {},
   "source": [
    "which is equivalent to elec.mains():"
   ]
  },
  {
   "cell_type": "code",
   "execution_count": 42,
   "metadata": {},
   "outputs": [
    {
     "data": {
      "text/plain": [
       "True"
      ]
     },
     "execution_count": 42,
     "metadata": {},
     "output_type": "execute_result"
    }
   ],
   "source": [
    "elec.mains() == elec[ElecMeterID(instance=0, building=1, dataset='REDD')]"
   ]
  },
  {
   "cell_type": "markdown",
   "metadata": {},
   "source": [
    "## Plot sub-metered data for a single day"
   ]
  },
  {
   "cell_type": "code",
   "execution_count": 24,
   "metadata": {},
   "outputs": [
    {
     "name": "stdout",
     "output_type": "stream",
     "text": [
      "Loading data for meter ElecMeterID(instance=4, building=1, dataset='REDD')     \n",
      "Done loading data all meters for this chunk.\n",
      "Loading data for meter ElecMeterID(instance=20, building=1, dataset='REDD')     \n",
      "Done loading data all meters for this chunk.\n"
     ]
    },
    {
     "data": {
      "image/png": "[encoded data removed]",
      "text/plain": [
       "<Figure size 936x720 with 1 Axes>"
      ]
     },
     "metadata": {},
     "output_type": "display_data"
    }
   ],
   "source": [
    "redd.set_window(start='2011-04-21', end='2011-04-22')\n",
    "elec.plot();\n",
    "plt.xlabel(\"Time\");"
   ]
  },
  {
   "cell_type": "markdown",
   "metadata": {},
   "source": [
    "## Autocorrelation Plot"
   ]
  },
  {
   "cell_type": "code",
   "execution_count": 25,
   "metadata": {},
   "outputs": [],
   "source": [
    "from pandas.plotting import autocorrelation_plot"
   ]
  },
  {
   "cell_type": "code",
   "execution_count": 26,
   "metadata": {
    "scrolled": false
   },
   "outputs": [
    {
     "name": "stdout",
     "output_type": "stream",
     "text": [
      "Loading data for meter ElecMeterID(instance=2, building=1, dataset='REDD')     \n",
      "Done loading data all meters for this chunk.\n"
     ]
    },
    {
     "data": {
      "image/png": "[encoded data removed]",
      "text/plain": [
       "<Figure size 936x720 with 1 Axes>"
      ]
     },
     "metadata": {},
     "output_type": "display_data"
    }
   ],
   "source": [
    "elec.mains().plot_autocorrelation();"
   ]
  },
  {
   "cell_type": "markdown",
   "metadata": {},
   "source": [
    "## Daily energy consumption across fridges in the dataset"
   ]
  },
  {
   "cell_type": "code",
   "execution_count": 31,
   "metadata": {},
   "outputs": [
    {
     "name": "stderr",
     "output_type": "stream",
     "text": [
      "/home/ayush/anaconda3/envs/n2/lib/python3.6/site-packages/pandas/core/frame.py:6692: FutureWarning: Sorting because non-concatenation axis is not aligned. A future version\n",
      "of pandas will change to not sort by default.\n",
      "\n",
      "To accept the future behavior, pass 'sort=False'.\n",
      "\n",
      "To retain the current behavior and silence the warning, pass 'sort=True'.\n",
      "\n",
      "  sort=sort)\n",
      "/home/ayush/nilmtk/nilmtk/datastore/hdfdatastore.py:128: UserWarning: Pandas doesn't allow columns to be created via a new attribute name - see https://pandas.pydata.org/pandas-docs/stable/indexing.html#attribute-access\n",
      "  stop=look_ahead_end_i)\n",
      "/home/ayush/nilmtk/nilmtk/datastore/hdfdatastore.py:128: UserWarning: Pandas doesn't allow columns to be created via a new attribute name - see https://pandas.pydata.org/pandas-docs/stable/indexing.html#attribute-access\n",
      "  stop=look_ahead_end_i)\n",
      "/home/ayush/nilmtk/nilmtk/datastore/hdfdatastore.py:128: UserWarning: Pandas doesn't allow columns to be created via a new attribute name - see https://pandas.pydata.org/pandas-docs/stable/indexing.html#attribute-access\n",
      "  stop=look_ahead_end_i)\n",
      "/home/ayush/nilmtk/nilmtk/datastore/hdfdatastore.py:128: UserWarning: Pandas doesn't allow columns to be created via a new attribute name - see https://pandas.pydata.org/pandas-docs/stable/indexing.html#attribute-access\n",
      "  stop=look_ahead_end_i)\n"
     ]
    },
    {
     "data": {
      "image/png": "[encoded data removed]",
      "text/plain": [
       "<Figure size 936x720 with 1 Axes>"
      ]
     },
     "metadata": {},
     "output_type": "display_data"
    }
   ],
   "source": [
    "fridges_restricted = nilmtk.global_meter_group.select_using_appliances(type='fridge')\n",
    "daily_energy = pd.DataFrame([meter.average_energy_per_period(offset_alias='D') \n",
    "                             for meter in fridges_restricted.meters])\n",
    "\n",
    "daily_energy.plot(kind='hist');\n",
    "plt.title('Histogram of daily fridge energy');\n",
    "plt.xlabel('energy (kWh)');\n",
    "plt.ylabel('occurences');\n",
    "plt.legend().set_visible(False)"
   ]
  },
  {
   "cell_type": "markdown",
   "metadata": {},
   "source": [
    "## Correlation dataframe of the appliances"
   ]
  },
  {
   "cell_type": "code",
   "execution_count": 18,
   "metadata": {
    "scrolled": false
   },
   "outputs": [
    {
     "name": "stdout",
     "output_type": "stream",
     "text": [
      "Loading data for meter ElecMeterID(instance=4, building=1, dataset='REDD')     \n",
      "Done loading data all meters for this chunk.\n",
      "Loading data for meter ElecMeterID(instance=4, building=1, dataset='REDD')     \n",
      "Done loading data all meters for this chunk.\n",
      "Loading data for meter ElecMeterID(instance=4, building=1, dataset='REDD')     \n",
      "Done loading data all meters for this chunk.\n",
      "Loading data for meter ElecMeterID(instance=20, building=1, dataset='REDD')     \n",
      "Done loading data all meters for this chunk.\n",
      "Loading data for meter ElecMeterID(instance=20, building=1, dataset='REDD')     \n",
      "Done loading data all meters for this chunk.\n",
      "Loading data for meter ElecMeterID(instance=20, building=1, dataset='REDD')     \n",
      "Done loading data all meters for this chunk.\n",
      "Loading data for meter ElecMeterID(instance=4, building=1, dataset='REDD')     \n",
      "Done loading data all meters for this chunk.\n",
      "Loading data for meter ElecMeterID(instance=4, building=1, dataset='REDD')     \n",
      "Done loading data all meters for this chunk.\n",
      "Loading data for meter ElecMeterID(instance=4, building=1, dataset='REDD')     \n",
      "Done loading data all meters for this chunk.\n",
      "Loading data for meter ElecMeterID(instance=20, building=1, dataset='REDD')     \n",
      "Done loading data all meters for this chunk.\n",
      "Loading data for meter ElecMeterID(instance=20, building=1, dataset='REDD')     \n",
      "Done loading data all meters for this chunk.\n",
      "Loading data for meter ElecMeterID(instance=20, building=1, dataset='REDD')     \n",
      "Done loading data all meters for this chunk.\n",
      "Loading data for meter ElecMeterID(instance=4, building=1, dataset='REDD')     \n",
      "Done loading data all meters for this chunk.\n",
      "Loading data for meter ElecMeterID(instance=4, building=1, dataset='REDD')     \n",
      "Done loading data all meters for this chunk.\n",
      "Loading data for meter ElecMeterID(instance=4, building=1, dataset='REDD')     \n",
      "Done loading data all meters for this chunk.\n",
      "Loading data for meter ElecMeterID(instance=20, building=1, dataset='REDD')     \n",
      "Done loading data all meters for this chunk.\n",
      "Loading data for meter ElecMeterID(instance=20, building=1, dataset='REDD')     \n",
      "Done loading data all meters for this chunk.\n",
      "Loading data for meter ElecMeterID(instance=20, building=1, dataset='REDD')     \n",
      "Done loading data all meters for this chunk.\n",
      "Loading data for meter ElecMeterID(instance=4, building=1, dataset='REDD')     \n",
      "Done loading data all meters for this chunk.\n",
      "Loading data for meter ElecMeterID(instance=4, building=1, dataset='REDD')     \n",
      "Done loading data all meters for this chunk.\n",
      "Loading data for meter ElecMeterID(instance=4, building=1, dataset='REDD')     \n",
      "Done loading data all meters for this chunk.\n",
      "Loading data for meter ElecMeterID(instance=20, building=1, dataset='REDD')     \n",
      "Done loading data all meters for this chunk.\n",
      "Loading data for meter ElecMeterID(instance=20, building=1, dataset='REDD')     \n",
      "Done loading data all meters for this chunk.\n",
      "Loading data for meter ElecMeterID(instance=20, building=1, dataset='REDD')     \n",
      "Done loading data all meters for this chunk.\n",
      "Loading data for meter ElecMeterID(instance=4, building=1, dataset='REDD')     \n",
      "Done loading data all meters for this chunk.\n",
      "Loading data for meter ElecMeterID(instance=4, building=1, dataset='REDD')     \n",
      "Done loading data all meters for this chunk.\n",
      "Loading data for meter ElecMeterID(instance=4, building=1, dataset='REDD')     \n",
      "Done loading data all meters for this chunk.\n",
      "Loading data for meter ElecMeterID(instance=20, building=1, dataset='REDD')     \n",
      "Done loading data all meters for this chunk.\n",
      "Loading data for meter ElecMeterID(instance=20, building=1, dataset='REDD')     \n",
      "Done loading data all meters for this chunk.\n",
      "Loading data for meter ElecMeterID(instance=20, building=1, dataset='REDD')     \n",
      "Done loading data all meters for this chunk.\n",
      "Loading data for meter ElecMeterID(instance=4, building=1, dataset='REDD')     \n",
      "Done loading data all meters for this chunk.\n",
      "Loading data for meter ElecMeterID(instance=4, building=1, dataset='REDD')     \n",
      "Done loading data all meters for this chunk.\n",
      "Loading data for meter ElecMeterID(instance=4, building=1, dataset='REDD')     \n",
      "Done loading data all meters for this chunk.\n",
      "Loading data for meter ElecMeterID(instance=20, building=1, dataset='REDD')     \n",
      "Done loading data all meters for this chunk.\n",
      "Loading data for meter ElecMeterID(instance=20, building=1, dataset='REDD')     \n",
      "Done loading data all meters for this chunk.\n",
      "Loading data for meter ElecMeterID(instance=20, building=1, dataset='REDD')     \n",
      "Done loading data all meters for this chunk.\n",
      "Loading data for meter ElecMeterID(instance=4, building=1, dataset='REDD')     \n",
      "Done loading data all meters for this chunk.\n",
      "Loading data for meter ElecMeterID(instance=4, building=1, dataset='REDD')     \n",
      "Done loading data all meters for this chunk.\n",
      "Loading data for meter ElecMeterID(instance=4, building=1, dataset='REDD')     \n",
      "Done loading data all meters for this chunk.\n",
      "Loading data for meter ElecMeterID(instance=20, building=1, dataset='REDD')     \n",
      "Done loading data all meters for this chunk.\n",
      "Loading data for meter ElecMeterID(instance=20, building=1, dataset='REDD')     \n",
      "Done loading data all meters for this chunk.\n",
      "Loading data for meter ElecMeterID(instance=20, building=1, dataset='REDD')     \n",
      "Done loading data all meters for this chunk.\n",
      "Loading data for meter ElecMeterID(instance=4, building=1, dataset='REDD')     \n",
      "Done loading data all meters for this chunk.\n",
      "Loading data for meter ElecMeterID(instance=4, building=1, dataset='REDD')     \n",
      "Done loading data all meters for this chunk.\n",
      "Loading data for meter ElecMeterID(instance=4, building=1, dataset='REDD')     \n",
      "Done loading data all meters for this chunk.\n",
      "Loading data for meter ElecMeterID(instance=20, building=1, dataset='REDD')     \n",
      "Done loading data all meters for this chunk.\n",
      "Loading data for meter ElecMeterID(instance=20, building=1, dataset='REDD')     \n",
      "Done loading data all meters for this chunk.\n",
      "Loading data for meter ElecMeterID(instance=20, building=1, dataset='REDD')     \n",
      "Done loading data all meters for this chunk.\n",
      "Loading data for meter ElecMeterID(instance=4, building=1, dataset='REDD')     \n",
      "Done loading data all meters for this chunk.\n",
      "Loading data for meter ElecMeterID(instance=4, building=1, dataset='REDD')     \n",
      "Done loading data all meters for this chunk.\n",
      "Loading data for meter ElecMeterID(instance=4, building=1, dataset='REDD')     \n",
      "Done loading data all meters for this chunk.\n",
      "Loading data for meter ElecMeterID(instance=20, building=1, dataset='REDD')     \n",
      "Done loading data all meters for this chunk.\n",
      "Loading data for meter ElecMeterID(instance=20, building=1, dataset='REDD')     \n",
      "Done loading data all meters for this chunk.\n",
      "Loading data for meter ElecMeterID(instance=20, building=1, dataset='REDD')     \n",
      "Done loading data all meters for this chunk.\n",
      "Loading data for meter ElecMeterID(instance=4, building=1, dataset='REDD')     \n",
      "Done loading data all meters for this chunk.\n",
      "Loading data for meter ElecMeterID(instance=4, building=1, dataset='REDD')     \n",
      "Done loading data all meters for this chunk.\n",
      "Loading data for meter ElecMeterID(instance=4, building=1, dataset='REDD')     \n",
      "Done loading data all meters for this chunk.\n",
      "Loading data for meter ElecMeterID(instance=20, building=1, dataset='REDD')     \n",
      "Done loading data all meters for this chunk.\n",
      "Loading data for meter ElecMeterID(instance=20, building=1, dataset='REDD')     \n",
      "Done loading data all meters for this chunk.\n",
      "Loading data for meter ElecMeterID(instance=20, building=1, dataset='REDD')     \n",
      "Done loading data all meters for this chunk.\n",
      "Loading data for meter ElecMeterID(instance=4, building=1, dataset='REDD')     \n",
      "Done loading data all meters for this chunk.\n",
      "Loading data for meter ElecMeterID(instance=4, building=1, dataset='REDD')     \n",
      "Done loading data all meters for this chunk.\n",
      "Loading data for meter ElecMeterID(instance=4, building=1, dataset='REDD')     \n",
      "Done loading data all meters for this chunk.\n",
      "Loading data for meter ElecMeterID(instance=20, building=1, dataset='REDD')     \n",
      "Done loading data all meters for this chunk.\n",
      "Loading data for meter ElecMeterID(instance=20, building=1, dataset='REDD')     \n",
      "Done loading data all meters for this chunk.\n",
      "Loading data for meter ElecMeterID(instance=20, building=1, dataset='REDD')     \n",
      "Done loading data all meters for this chunk.\n",
      "Loading data for meter ElecMeterID(instance=4, building=1, dataset='REDD')     \n",
      "Done loading data all meters for this chunk.\n",
      "Loading data for meter ElecMeterID(instance=4, building=1, dataset='REDD')     \n",
      "Done loading data all meters for this chunk.\n",
      "Loading data for meter ElecMeterID(instance=4, building=1, dataset='REDD')     \n",
      "Done loading data all meters for this chunk.\n",
      "Loading data for meter ElecMeterID(instance=20, building=1, dataset='REDD')     \n",
      "Done loading data all meters for this chunk.\n",
      "Loading data for meter ElecMeterID(instance=20, building=1, dataset='REDD')     \n",
      "Done loading data all meters for this chunk.\n",
      "Loading data for meter ElecMeterID(instance=20, building=1, dataset='REDD')     \n",
      "Done loading data all meters for this chunk.\n",
      "Loading data for meter ElecMeterID(instance=4, building=1, dataset='REDD')     \n",
      "Done loading data all meters for this chunk.\n",
      "Loading data for meter ElecMeterID(instance=4, building=1, dataset='REDD')     \n",
      "Done loading data all meters for this chunk.\n",
      "Loading data for meter ElecMeterID(instance=4, building=1, dataset='REDD')     \n",
      "Done loading data all meters for this chunk.\n",
      "Loading data for meter ElecMeterID(instance=20, building=1, dataset='REDD')     \n",
      "Done loading data all meters for this chunk.\n",
      "Loading data for meter ElecMeterID(instance=20, building=1, dataset='REDD')     \n",
      "Done loading data all meters for this chunk.\n",
      "Loading data for meter ElecMeterID(instance=20, building=1, dataset='REDD')     \n",
      "Done loading data all meters for this chunk.\n",
      "Loading data for meter ElecMeterID(instance=4, building=1, dataset='REDD')     \n",
      "Done loading data all meters for this chunk.\n",
      "Loading data for meter ElecMeterID(instance=4, building=1, dataset='REDD')     \n",
      "Done loading data all meters for this chunk.\n",
      "Loading data for meter ElecMeterID(instance=4, building=1, dataset='REDD')     \n",
      "Done loading data all meters for this chunk.\n",
      "Loading data for meter ElecMeterID(instance=20, building=1, dataset='REDD')     \n",
      "Done loading data all meters for this chunk.\n",
      "Loading data for meter ElecMeterID(instance=20, building=1, dataset='REDD')     \n",
      "Done loading data all meters for this chunk.\n",
      "Loading data for meter ElecMeterID(instance=20, building=1, dataset='REDD')     \n",
      "Done loading data all meters for this chunk.\n",
      "Loading data for meter ElecMeterID(instance=4, building=1, dataset='REDD')     \n",
      "Done loading data all meters for this chunk.\n",
      "Loading data for meter ElecMeterID(instance=4, building=1, dataset='REDD')     \n",
      "Done loading data all meters for this chunk.\n",
      "Loading data for meter ElecMeterID(instance=4, building=1, dataset='REDD')     \n",
      "Done loading data all meters for this chunk.\n",
      "Loading data for meter ElecMeterID(instance=20, building=1, dataset='REDD')     \n",
      "Done loading data all meters for this chunk.\n",
      "Loading data for meter ElecMeterID(instance=20, building=1, dataset='REDD')     \n",
      "Done loading data all meters for this chunk.\n",
      "Loading data for meter ElecMeterID(instance=20, building=1, dataset='REDD')     \n",
      "Done loading data all meters for this chunk.\n",
      "Loading data for meter ElecMeterID(instance=4, building=1, dataset='REDD')     \n",
      "Done loading data all meters for this chunk.\n",
      "Loading data for meter ElecMeterID(instance=4, building=1, dataset='REDD')     \n",
      "Done loading data all meters for this chunk.\n",
      "Loading data for meter ElecMeterID(instance=4, building=1, dataset='REDD')     \n",
      "Done loading data all meters for this chunk.\n",
      "Loading data for meter ElecMeterID(instance=20, building=1, dataset='REDD')     \n",
      "Done loading data all meters for this chunk.\n",
      "Loading data for meter ElecMeterID(instance=20, building=1, dataset='REDD')     \n",
      "Done loading data all meters for this chunk.\n",
      "Loading data for meter ElecMeterID(instance=20, building=1, dataset='REDD')     \n",
      "Done loading data all meters for this chunk.\n",
      "Loading data for meter ElecMeterID(instance=4, building=1, dataset='REDD')     \n",
      "Done loading data all meters for this chunk.\n",
      "Loading data for meter ElecMeterID(instance=4, building=1, dataset='REDD')     \n",
      "Done loading data all meters for this chunk.\n",
      "Loading data for meter ElecMeterID(instance=4, building=1, dataset='REDD')     \n",
      "Done loading data all meters for this chunk.\n",
      "Loading data for meter ElecMeterID(instance=4, building=1, dataset='REDD')     \n",
      "Done loading data all meters for this chunk.\n",
      "Loading data for meter ElecMeterID(instance=4, building=1, dataset='REDD')     \n",
      "Done loading data all meters for this chunk.\n",
      "Loading data for meter ElecMeterID(instance=4, building=1, dataset='REDD')     \n",
      "Done loading data all meters for this chunk.\n",
      "Loading data for meter ElecMeterID(instance=4, building=1, dataset='REDD')     \n",
      "Done loading data all meters for this chunk.\n",
      "Loading data for meter ElecMeterID(instance=20, building=1, dataset='REDD')     \n",
      "Done loading data all meters for this chunk.\n",
      "Loading data for meter ElecMeterID(instance=4, building=1, dataset='REDD')     \n",
      "Done loading data all meters for this chunk.\n",
      "Loading data for meter ElecMeterID(instance=20, building=1, dataset='REDD')     \n",
      "Done loading data all meters for this chunk.\n",
      "Loading data for meter ElecMeterID(instance=4, building=1, dataset='REDD')     \n",
      "Done loading data all meters for this chunk.\n",
      "Loading data for meter ElecMeterID(instance=20, building=1, dataset='REDD')     \n",
      "Done loading data all meters for this chunk.\n",
      "Loading data for meter ElecMeterID(instance=20, building=1, dataset='REDD')     \n",
      "Done loading data all meters for this chunk.\n",
      "Loading data for meter ElecMeterID(instance=20, building=1, dataset='REDD')     \n",
      "Done loading data all meters for this chunk.\n",
      "Loading data for meter ElecMeterID(instance=20, building=1, dataset='REDD')     \n",
      "Done loading data all meters for this chunk.\n",
      "Loading data for meter ElecMeterID(instance=20, building=1, dataset='REDD')     \n",
      "Done loading data all meters for this chunk.\n",
      "Loading data for meter ElecMeterID(instance=20, building=1, dataset='REDD')     \n",
      "Done loading data all meters for this chunk.\n",
      "Loading data for meter ElecMeterID(instance=20, building=1, dataset='REDD')     \n",
      "Done loading data all meters for this chunk.\n"
     ]
    }
   ],
   "source": [
    "correlation_df = elec.pairwise_correlation()"
   ]
  },
  {
   "cell_type": "code",
   "execution_count": 17,
   "metadata": {
    "scrolled": true
   },
   "outputs": [
    {
     "data": {
      "text/html": [
       "<div>\n",
       "<style scoped>\n",
       "    .dataframe tbody tr th:only-of-type {\n",
       "        vertical-align: middle;\n",
       "    }\n",
       "\n",
       "    .dataframe tbody tr th {\n",
       "        vertical-align: top;\n",
       "    }\n",
       "\n",
       "    .dataframe thead th {\n",
       "        text-align: right;\n",
       "    }\n",
       "</style>\n",
       "<table border=\"1\" class=\"dataframe\">\n",
       "  <thead>\n",
       "    <tr style=\"text-align: right;\">\n",
       "      <th></th>\n",
       "      <th>(1, 1, REDD)</th>\n",
       "      <th>(2, 1, REDD)</th>\n",
       "      <th>(5, 1, REDD)</th>\n",
       "      <th>(6, 1, REDD)</th>\n",
       "      <th>(7, 1, REDD)</th>\n",
       "      <th>(8, 1, REDD)</th>\n",
       "      <th>(9, 1, REDD)</th>\n",
       "      <th>(11, 1, REDD)</th>\n",
       "      <th>(12, 1, REDD)</th>\n",
       "      <th>(13, 1, REDD)</th>\n",
       "      <th>(14, 1, REDD)</th>\n",
       "      <th>(15, 1, REDD)</th>\n",
       "      <th>(16, 1, REDD)</th>\n",
       "      <th>(17, 1, REDD)</th>\n",
       "      <th>(18, 1, REDD)</th>\n",
       "      <th>(19, 1, REDD)</th>\n",
       "      <th>(((3, 1, REDD), (4, 1, REDD)),)</th>\n",
       "      <th>(((10, 1, REDD), (20, 1, REDD)),)</th>\n",
       "    </tr>\n",
       "  </thead>\n",
       "  <tbody>\n",
       "    <tr>\n",
       "      <th>(1, 1, REDD)</th>\n",
       "      <td>1</td>\n",
       "      <td>0.493865</td>\n",
       "      <td>0.208192</td>\n",
       "      <td>-0.0151986</td>\n",
       "      <td>-0.01311</td>\n",
       "      <td>0.125826</td>\n",
       "      <td>0.0537078</td>\n",
       "      <td>0.35969</td>\n",
       "      <td>0.18205</td>\n",
       "      <td>0.376002</td>\n",
       "      <td>0.0178043</td>\n",
       "      <td>0.170553</td>\n",
       "      <td>0.0285939</td>\n",
       "      <td>0.195994</td>\n",
       "      <td>0.172772</td>\n",
       "      <td>0.00201533</td>\n",
       "      <td>0.28237</td>\n",
       "      <td>0.496343</td>\n",
       "    </tr>\n",
       "    <tr>\n",
       "      <th>(2, 1, REDD)</th>\n",
       "      <td>0.493865</td>\n",
       "      <td>1</td>\n",
       "      <td>0.052509</td>\n",
       "      <td>0.223265</td>\n",
       "      <td>-0.147914</td>\n",
       "      <td>0.107421</td>\n",
       "      <td>-0.0497781</td>\n",
       "      <td>0.0501618</td>\n",
       "      <td>0.000695399</td>\n",
       "      <td>0.0433141</td>\n",
       "      <td>-0.00444401</td>\n",
       "      <td>0.0100513</td>\n",
       "      <td>0.0636614</td>\n",
       "      <td>0.10208</td>\n",
       "      <td>0.0916711</td>\n",
       "      <td>0.00235347</td>\n",
       "      <td>0.246522</td>\n",
       "      <td>0.497209</td>\n",
       "    </tr>\n",
       "    <tr>\n",
       "      <th>(5, 1, REDD)</th>\n",
       "      <td>0.208192</td>\n",
       "      <td>0.052509</td>\n",
       "      <td>1</td>\n",
       "      <td>0.0277064</td>\n",
       "      <td>0.142779</td>\n",
       "      <td>0.0346862</td>\n",
       "      <td>-0.0559063</td>\n",
       "      <td>0.036938</td>\n",
       "      <td>-0.0076818</td>\n",
       "      <td>0.0240739</td>\n",
       "      <td>-0.00492222</td>\n",
       "      <td>0.0394294</td>\n",
       "      <td>0.0291523</td>\n",
       "      <td>0.0761827</td>\n",
       "      <td>0.0653918</td>\n",
       "      <td>-0.00057435</td>\n",
       "      <td>0.0426821</td>\n",
       "      <td>0.0351233</td>\n",
       "    </tr>\n",
       "    <tr>\n",
       "      <th>(6, 1, REDD)</th>\n",
       "      <td>-0.0151986</td>\n",
       "      <td>0.223265</td>\n",
       "      <td>0.0277064</td>\n",
       "      <td>1</td>\n",
       "      <td>-0.460876</td>\n",
       "      <td>0.0915657</td>\n",
       "      <td>-0.0447158</td>\n",
       "      <td>-0.0142064</td>\n",
       "      <td>-0.00946472</td>\n",
       "      <td>-0.0104851</td>\n",
       "      <td>-0.00307437</td>\n",
       "      <td>-0.00795049</td>\n",
       "      <td>-0.00426762</td>\n",
       "      <td>0.0937183</td>\n",
       "      <td>0.0500551</td>\n",
       "      <td>-0.000463724</td>\n",
       "      <td>-0.00480863</td>\n",
       "      <td>0.0663175</td>\n",
       "    </tr>\n",
       "    <tr>\n",
       "      <th>(7, 1, REDD)</th>\n",
       "      <td>-0.01311</td>\n",
       "      <td>-0.147914</td>\n",
       "      <td>0.142779</td>\n",
       "      <td>-0.460876</td>\n",
       "      <td>1</td>\n",
       "      <td>-0.0905033</td>\n",
       "      <td>0.135777</td>\n",
       "      <td>0.0107044</td>\n",
       "      <td>8.97325e-05</td>\n",
       "      <td>0.00508501</td>\n",
       "      <td>-0.00603428</td>\n",
       "      <td>0.000734892</td>\n",
       "      <td>0.0228129</td>\n",
       "      <td>-0.115439</td>\n",
       "      <td>-0.0784546</td>\n",
       "      <td>-0.0004621</td>\n",
       "      <td>-0.0377306</td>\n",
       "      <td>-0.0469878</td>\n",
       "    </tr>\n",
       "    <tr>\n",
       "      <th>(8, 1, REDD)</th>\n",
       "      <td>0.125826</td>\n",
       "      <td>0.107421</td>\n",
       "      <td>0.0346862</td>\n",
       "      <td>0.0915657</td>\n",
       "      <td>-0.0905033</td>\n",
       "      <td>1</td>\n",
       "      <td>-0.0537624</td>\n",
       "      <td>0.0951234</td>\n",
       "      <td>0.018482</td>\n",
       "      <td>0.0839443</td>\n",
       "      <td>0.0222717</td>\n",
       "      <td>0.0952502</td>\n",
       "      <td>0.0486711</td>\n",
       "      <td>0.370387</td>\n",
       "      <td>0.461236</td>\n",
       "      <td>0.00170336</td>\n",
       "      <td>0.074872</td>\n",
       "      <td>0.0276904</td>\n",
       "    </tr>\n",
       "    <tr>\n",
       "      <th>(9, 1, REDD)</th>\n",
       "      <td>0.0537078</td>\n",
       "      <td>-0.0497781</td>\n",
       "      <td>-0.0559063</td>\n",
       "      <td>-0.0447158</td>\n",
       "      <td>0.135777</td>\n",
       "      <td>-0.0537624</td>\n",
       "      <td>1</td>\n",
       "      <td>-0.00538224</td>\n",
       "      <td>0.0206587</td>\n",
       "      <td>0.00764671</td>\n",
       "      <td>-0.0130653</td>\n",
       "      <td>0.037022</td>\n",
       "      <td>0.0104413</td>\n",
       "      <td>-0.0554316</td>\n",
       "      <td>-0.0853124</td>\n",
       "      <td>0.000493193</td>\n",
       "      <td>0.0122976</td>\n",
       "      <td>-0.00296221</td>\n",
       "    </tr>\n",
       "    <tr>\n",
       "      <th>(11, 1, REDD)</th>\n",
       "      <td>0.35969</td>\n",
       "      <td>0.0501618</td>\n",
       "      <td>0.036938</td>\n",
       "      <td>-0.0142064</td>\n",
       "      <td>0.0107044</td>\n",
       "      <td>0.0951234</td>\n",
       "      <td>-0.00538224</td>\n",
       "      <td>1</td>\n",
       "      <td>0.0219746</td>\n",
       "      <td>0.737091</td>\n",
       "      <td>0.024999</td>\n",
       "      <td>0.0964818</td>\n",
       "      <td>0.037114</td>\n",
       "      <td>0.14398</td>\n",
       "      <td>0.11084</td>\n",
       "      <td>0.000466343</td>\n",
       "      <td>0.0799527</td>\n",
       "      <td>0.0172807</td>\n",
       "    </tr>\n",
       "    <tr>\n",
       "      <th>(12, 1, REDD)</th>\n",
       "      <td>0.18205</td>\n",
       "      <td>0.000695399</td>\n",
       "      <td>-0.0076818</td>\n",
       "      <td>-0.00946472</td>\n",
       "      <td>8.97325e-05</td>\n",
       "      <td>0.018482</td>\n",
       "      <td>0.0206587</td>\n",
       "      <td>0.0219746</td>\n",
       "      <td>1</td>\n",
       "      <td>0.6286</td>\n",
       "      <td>0.021149</td>\n",
       "      <td>0.000464943</td>\n",
       "      <td>0.0122948</td>\n",
       "      <td>0.0641093</td>\n",
       "      <td>0.0683593</td>\n",
       "      <td>-0.000161075</td>\n",
       "      <td>-0.00193148</td>\n",
       "      <td>0.00360659</td>\n",
       "    </tr>\n",
       "    <tr>\n",
       "      <th>(13, 1, REDD)</th>\n",
       "      <td>0.376002</td>\n",
       "      <td>0.0433141</td>\n",
       "      <td>0.0240739</td>\n",
       "      <td>-0.0104851</td>\n",
       "      <td>0.00508501</td>\n",
       "      <td>0.0839443</td>\n",
       "      <td>0.00764671</td>\n",
       "      <td>0.737091</td>\n",
       "      <td>0.6286</td>\n",
       "      <td>1</td>\n",
       "      <td>0.0489486</td>\n",
       "      <td>0.0694312</td>\n",
       "      <td>0.0827325</td>\n",
       "      <td>0.150063</td>\n",
       "      <td>0.123162</td>\n",
       "      <td>0.000931781</td>\n",
       "      <td>0.0794789</td>\n",
       "      <td>0.0206596</td>\n",
       "    </tr>\n",
       "    <tr>\n",
       "      <th>(14, 1, REDD)</th>\n",
       "      <td>0.0178043</td>\n",
       "      <td>-0.00444401</td>\n",
       "      <td>-0.00492222</td>\n",
       "      <td>-0.00307437</td>\n",
       "      <td>-0.00603428</td>\n",
       "      <td>0.0222717</td>\n",
       "      <td>-0.0130653</td>\n",
       "      <td>0.024999</td>\n",
       "      <td>0.021149</td>\n",
       "      <td>0.0489486</td>\n",
       "      <td>1</td>\n",
       "      <td>0.007114</td>\n",
       "      <td>0.00288202</td>\n",
       "      <td>0.0297915</td>\n",
       "      <td>0.00143666</td>\n",
       "      <td>-1.33088e-05</td>\n",
       "      <td>0.0412654</td>\n",
       "      <td>-0.00138677</td>\n",
       "    </tr>\n",
       "    <tr>\n",
       "      <th>(15, 1, REDD)</th>\n",
       "      <td>0.170553</td>\n",
       "      <td>0.0100513</td>\n",
       "      <td>0.0394294</td>\n",
       "      <td>-0.00795049</td>\n",
       "      <td>0.000734892</td>\n",
       "      <td>0.0952502</td>\n",
       "      <td>0.037022</td>\n",
       "      <td>0.0964818</td>\n",
       "      <td>0.000464943</td>\n",
       "      <td>0.0694312</td>\n",
       "      <td>0.007114</td>\n",
       "      <td>1</td>\n",
       "      <td>0.0198469</td>\n",
       "      <td>0.0697458</td>\n",
       "      <td>0.08212</td>\n",
       "      <td>0.00239313</td>\n",
       "      <td>-0.00271325</td>\n",
       "      <td>0.00243503</td>\n",
       "    </tr>\n",
       "    <tr>\n",
       "      <th>(16, 1, REDD)</th>\n",
       "      <td>0.0285939</td>\n",
       "      <td>0.0636614</td>\n",
       "      <td>0.0291523</td>\n",
       "      <td>-0.00426762</td>\n",
       "      <td>0.0228129</td>\n",
       "      <td>0.0486711</td>\n",
       "      <td>0.0104413</td>\n",
       "      <td>0.037114</td>\n",
       "      <td>0.0122948</td>\n",
       "      <td>0.0827325</td>\n",
       "      <td>0.00288202</td>\n",
       "      <td>0.0198469</td>\n",
       "      <td>1</td>\n",
       "      <td>0.0655216</td>\n",
       "      <td>0.0389901</td>\n",
       "      <td>-5.29324e-05</td>\n",
       "      <td>-0.00166159</td>\n",
       "      <td>0.00926261</td>\n",
       "    </tr>\n",
       "    <tr>\n",
       "      <th>(17, 1, REDD)</th>\n",
       "      <td>0.195994</td>\n",
       "      <td>0.10208</td>\n",
       "      <td>0.0761827</td>\n",
       "      <td>0.0937183</td>\n",
       "      <td>-0.115439</td>\n",
       "      <td>0.370387</td>\n",
       "      <td>-0.0554316</td>\n",
       "      <td>0.14398</td>\n",
       "      <td>0.0641093</td>\n",
       "      <td>0.150063</td>\n",
       "      <td>0.0297915</td>\n",
       "      <td>0.0697458</td>\n",
       "      <td>0.0655216</td>\n",
       "      <td>1</td>\n",
       "      <td>0.677292</td>\n",
       "      <td>-0.000376062</td>\n",
       "      <td>0.0737435</td>\n",
       "      <td>0.0549659</td>\n",
       "    </tr>\n",
       "    <tr>\n",
       "      <th>(18, 1, REDD)</th>\n",
       "      <td>0.172772</td>\n",
       "      <td>0.0916711</td>\n",
       "      <td>0.0653918</td>\n",
       "      <td>0.0500551</td>\n",
       "      <td>-0.0784546</td>\n",
       "      <td>0.461236</td>\n",
       "      <td>-0.0853124</td>\n",
       "      <td>0.11084</td>\n",
       "      <td>0.0683593</td>\n",
       "      <td>0.123162</td>\n",
       "      <td>0.00143666</td>\n",
       "      <td>0.08212</td>\n",
       "      <td>0.0389901</td>\n",
       "      <td>0.677292</td>\n",
       "      <td>1</td>\n",
       "      <td>0.00498577</td>\n",
       "      <td>0.0647296</td>\n",
       "      <td>0.0606667</td>\n",
       "    </tr>\n",
       "    <tr>\n",
       "      <th>(19, 1, REDD)</th>\n",
       "      <td>0.00201533</td>\n",
       "      <td>0.00235347</td>\n",
       "      <td>-0.00057435</td>\n",
       "      <td>-0.000463724</td>\n",
       "      <td>-0.0004621</td>\n",
       "      <td>0.00170336</td>\n",
       "      <td>0.000493193</td>\n",
       "      <td>0.000466343</td>\n",
       "      <td>-0.000161075</td>\n",
       "      <td>0.000931781</td>\n",
       "      <td>-1.33088e-05</td>\n",
       "      <td>0.00239313</td>\n",
       "      <td>-5.29324e-05</td>\n",
       "      <td>-0.000376062</td>\n",
       "      <td>0.00498577</td>\n",
       "      <td>1</td>\n",
       "      <td>-5.44864e-05</td>\n",
       "      <td>0.0202661</td>\n",
       "    </tr>\n",
       "    <tr>\n",
       "      <th>(((3, 1, REDD), (4, 1, REDD)),)</th>\n",
       "      <td>0.28237</td>\n",
       "      <td>0.246522</td>\n",
       "      <td>0.0426821</td>\n",
       "      <td>-0.00480863</td>\n",
       "      <td>-0.0377306</td>\n",
       "      <td>0.074872</td>\n",
       "      <td>0.0122976</td>\n",
       "      <td>0.0799527</td>\n",
       "      <td>-0.00193148</td>\n",
       "      <td>0.0794789</td>\n",
       "      <td>0.0412654</td>\n",
       "      <td>-0.00271325</td>\n",
       "      <td>-0.00166159</td>\n",
       "      <td>0.0737435</td>\n",
       "      <td>0.0647296</td>\n",
       "      <td>-5.44864e-05</td>\n",
       "      <td>1</td>\n",
       "      <td>0.0369581</td>\n",
       "    </tr>\n",
       "    <tr>\n",
       "      <th>(((10, 1, REDD), (20, 1, REDD)),)</th>\n",
       "      <td>0.496343</td>\n",
       "      <td>0.497209</td>\n",
       "      <td>0.0351233</td>\n",
       "      <td>0.0663175</td>\n",
       "      <td>-0.0469878</td>\n",
       "      <td>0.0276904</td>\n",
       "      <td>-0.00296221</td>\n",
       "      <td>0.0172807</td>\n",
       "      <td>0.00360659</td>\n",
       "      <td>0.0206596</td>\n",
       "      <td>-0.00138677</td>\n",
       "      <td>0.00243503</td>\n",
       "      <td>0.00926261</td>\n",
       "      <td>0.0549659</td>\n",
       "      <td>0.0606667</td>\n",
       "      <td>0.0202661</td>\n",
       "      <td>0.0369581</td>\n",
       "      <td>1</td>\n",
       "    </tr>\n",
       "  </tbody>\n",
       "</table>\n",
       "</div>"
      ],
      "text/plain": [
       "                                  (1, 1, REDD) (2, 1, REDD) (5, 1, REDD)  \\\n",
       "(1, 1, REDD)                                 1     0.493865     0.208192   \n",
       "(2, 1, REDD)                          0.493865            1     0.052509   \n",
       "(5, 1, REDD)                          0.208192     0.052509            1   \n",
       "(6, 1, REDD)                        -0.0151986     0.223265    0.0277064   \n",
       "(7, 1, REDD)                          -0.01311    -0.147914     0.142779   \n",
       "(8, 1, REDD)                          0.125826     0.107421    0.0346862   \n",
       "(9, 1, REDD)                         0.0537078   -0.0497781   -0.0559063   \n",
       "(11, 1, REDD)                          0.35969    0.0501618     0.036938   \n",
       "(12, 1, REDD)                          0.18205  0.000695399   -0.0076818   \n",
       "(13, 1, REDD)                         0.376002    0.0433141    0.0240739   \n",
       "(14, 1, REDD)                        0.0178043  -0.00444401  -0.00492222   \n",
       "(15, 1, REDD)                         0.170553    0.0100513    0.0394294   \n",
       "(16, 1, REDD)                        0.0285939    0.0636614    0.0291523   \n",
       "(17, 1, REDD)                         0.195994      0.10208    0.0761827   \n",
       "(18, 1, REDD)                         0.172772    0.0916711    0.0653918   \n",
       "(19, 1, REDD)                       0.00201533   0.00235347  -0.00057435   \n",
       "(((3, 1, REDD), (4, 1, REDD)),)        0.28237     0.246522    0.0426821   \n",
       "(((10, 1, REDD), (20, 1, REDD)),)     0.496343     0.497209    0.0351233   \n",
       "\n",
       "                                  (6, 1, REDD) (7, 1, REDD) (8, 1, REDD)  \\\n",
       "(1, 1, REDD)                        -0.0151986     -0.01311     0.125826   \n",
       "(2, 1, REDD)                          0.223265    -0.147914     0.107421   \n",
       "(5, 1, REDD)                         0.0277064     0.142779    0.0346862   \n",
       "(6, 1, REDD)                                 1    -0.460876    0.0915657   \n",
       "(7, 1, REDD)                         -0.460876            1   -0.0905033   \n",
       "(8, 1, REDD)                         0.0915657   -0.0905033            1   \n",
       "(9, 1, REDD)                        -0.0447158     0.135777   -0.0537624   \n",
       "(11, 1, REDD)                       -0.0142064    0.0107044    0.0951234   \n",
       "(12, 1, REDD)                      -0.00946472  8.97325e-05     0.018482   \n",
       "(13, 1, REDD)                       -0.0104851   0.00508501    0.0839443   \n",
       "(14, 1, REDD)                      -0.00307437  -0.00603428    0.0222717   \n",
       "(15, 1, REDD)                      -0.00795049  0.000734892    0.0952502   \n",
       "(16, 1, REDD)                      -0.00426762    0.0228129    0.0486711   \n",
       "(17, 1, REDD)                        0.0937183    -0.115439     0.370387   \n",
       "(18, 1, REDD)                        0.0500551   -0.0784546     0.461236   \n",
       "(19, 1, REDD)                     -0.000463724   -0.0004621   0.00170336   \n",
       "(((3, 1, REDD), (4, 1, REDD)),)    -0.00480863   -0.0377306     0.074872   \n",
       "(((10, 1, REDD), (20, 1, REDD)),)    0.0663175   -0.0469878    0.0276904   \n",
       "\n",
       "                                  (9, 1, REDD) (11, 1, REDD) (12, 1, REDD)  \\\n",
       "(1, 1, REDD)                         0.0537078       0.35969       0.18205   \n",
       "(2, 1, REDD)                        -0.0497781     0.0501618   0.000695399   \n",
       "(5, 1, REDD)                        -0.0559063      0.036938    -0.0076818   \n",
       "(6, 1, REDD)                        -0.0447158    -0.0142064   -0.00946472   \n",
       "(7, 1, REDD)                          0.135777     0.0107044   8.97325e-05   \n",
       "(8, 1, REDD)                        -0.0537624     0.0951234      0.018482   \n",
       "(9, 1, REDD)                                 1   -0.00538224     0.0206587   \n",
       "(11, 1, REDD)                      -0.00538224             1     0.0219746   \n",
       "(12, 1, REDD)                        0.0206587     0.0219746             1   \n",
       "(13, 1, REDD)                       0.00764671      0.737091        0.6286   \n",
       "(14, 1, REDD)                       -0.0130653      0.024999      0.021149   \n",
       "(15, 1, REDD)                         0.037022     0.0964818   0.000464943   \n",
       "(16, 1, REDD)                        0.0104413      0.037114     0.0122948   \n",
       "(17, 1, REDD)                       -0.0554316       0.14398     0.0641093   \n",
       "(18, 1, REDD)                       -0.0853124       0.11084     0.0683593   \n",
       "(19, 1, REDD)                      0.000493193   0.000466343  -0.000161075   \n",
       "(((3, 1, REDD), (4, 1, REDD)),)      0.0122976     0.0799527   -0.00193148   \n",
       "(((10, 1, REDD), (20, 1, REDD)),)  -0.00296221     0.0172807    0.00360659   \n",
       "\n",
       "                                  (13, 1, REDD) (14, 1, REDD) (15, 1, REDD)  \\\n",
       "(1, 1, REDD)                           0.376002     0.0178043      0.170553   \n",
       "(2, 1, REDD)                          0.0433141   -0.00444401     0.0100513   \n",
       "(5, 1, REDD)                          0.0240739   -0.00492222     0.0394294   \n",
       "(6, 1, REDD)                         -0.0104851   -0.00307437   -0.00795049   \n",
       "(7, 1, REDD)                         0.00508501   -0.00603428   0.000734892   \n",
       "(8, 1, REDD)                          0.0839443     0.0222717     0.0952502   \n",
       "(9, 1, REDD)                         0.00764671    -0.0130653      0.037022   \n",
       "(11, 1, REDD)                          0.737091      0.024999     0.0964818   \n",
       "(12, 1, REDD)                            0.6286      0.021149   0.000464943   \n",
       "(13, 1, REDD)                                 1     0.0489486     0.0694312   \n",
       "(14, 1, REDD)                         0.0489486             1      0.007114   \n",
       "(15, 1, REDD)                         0.0694312      0.007114             1   \n",
       "(16, 1, REDD)                         0.0827325    0.00288202     0.0198469   \n",
       "(17, 1, REDD)                          0.150063     0.0297915     0.0697458   \n",
       "(18, 1, REDD)                          0.123162    0.00143666       0.08212   \n",
       "(19, 1, REDD)                       0.000931781  -1.33088e-05    0.00239313   \n",
       "(((3, 1, REDD), (4, 1, REDD)),)       0.0794789     0.0412654   -0.00271325   \n",
       "(((10, 1, REDD), (20, 1, REDD)),)     0.0206596   -0.00138677    0.00243503   \n",
       "\n",
       "                                  (16, 1, REDD) (17, 1, REDD) (18, 1, REDD)  \\\n",
       "(1, 1, REDD)                          0.0285939      0.195994      0.172772   \n",
       "(2, 1, REDD)                          0.0636614       0.10208     0.0916711   \n",
       "(5, 1, REDD)                          0.0291523     0.0761827     0.0653918   \n",
       "(6, 1, REDD)                        -0.00426762     0.0937183     0.0500551   \n",
       "(7, 1, REDD)                          0.0228129     -0.115439    -0.0784546   \n",
       "(8, 1, REDD)                          0.0486711      0.370387      0.461236   \n",
       "(9, 1, REDD)                          0.0104413    -0.0554316    -0.0853124   \n",
       "(11, 1, REDD)                          0.037114       0.14398       0.11084   \n",
       "(12, 1, REDD)                         0.0122948     0.0641093     0.0683593   \n",
       "(13, 1, REDD)                         0.0827325      0.150063      0.123162   \n",
       "(14, 1, REDD)                        0.00288202     0.0297915    0.00143666   \n",
       "(15, 1, REDD)                         0.0198469     0.0697458       0.08212   \n",
       "(16, 1, REDD)                                 1     0.0655216     0.0389901   \n",
       "(17, 1, REDD)                         0.0655216             1      0.677292   \n",
       "(18, 1, REDD)                         0.0389901      0.677292             1   \n",
       "(19, 1, REDD)                      -5.29324e-05  -0.000376062    0.00498577   \n",
       "(((3, 1, REDD), (4, 1, REDD)),)     -0.00166159     0.0737435     0.0647296   \n",
       "(((10, 1, REDD), (20, 1, REDD)),)    0.00926261     0.0549659     0.0606667   \n",
       "\n",
       "                                  (19, 1, REDD)  \\\n",
       "(1, 1, REDD)                         0.00201533   \n",
       "(2, 1, REDD)                         0.00235347   \n",
       "(5, 1, REDD)                        -0.00057435   \n",
       "(6, 1, REDD)                       -0.000463724   \n",
       "(7, 1, REDD)                         -0.0004621   \n",
       "(8, 1, REDD)                         0.00170336   \n",
       "(9, 1, REDD)                        0.000493193   \n",
       "(11, 1, REDD)                       0.000466343   \n",
       "(12, 1, REDD)                      -0.000161075   \n",
       "(13, 1, REDD)                       0.000931781   \n",
       "(14, 1, REDD)                      -1.33088e-05   \n",
       "(15, 1, REDD)                        0.00239313   \n",
       "(16, 1, REDD)                      -5.29324e-05   \n",
       "(17, 1, REDD)                      -0.000376062   \n",
       "(18, 1, REDD)                        0.00498577   \n",
       "(19, 1, REDD)                                 1   \n",
       "(((3, 1, REDD), (4, 1, REDD)),)    -5.44864e-05   \n",
       "(((10, 1, REDD), (20, 1, REDD)),)     0.0202661   \n",
       "\n",
       "                                  (((3, 1, REDD), (4, 1, REDD)),)  \\\n",
       "(1, 1, REDD)                                              0.28237   \n",
       "(2, 1, REDD)                                             0.246522   \n",
       "(5, 1, REDD)                                            0.0426821   \n",
       "(6, 1, REDD)                                          -0.00480863   \n",
       "(7, 1, REDD)                                           -0.0377306   \n",
       "(8, 1, REDD)                                             0.074872   \n",
       "(9, 1, REDD)                                            0.0122976   \n",
       "(11, 1, REDD)                                           0.0799527   \n",
       "(12, 1, REDD)                                         -0.00193148   \n",
       "(13, 1, REDD)                                           0.0794789   \n",
       "(14, 1, REDD)                                           0.0412654   \n",
       "(15, 1, REDD)                                         -0.00271325   \n",
       "(16, 1, REDD)                                         -0.00166159   \n",
       "(17, 1, REDD)                                           0.0737435   \n",
       "(18, 1, REDD)                                           0.0647296   \n",
       "(19, 1, REDD)                                        -5.44864e-05   \n",
       "(((3, 1, REDD), (4, 1, REDD)),)                                 1   \n",
       "(((10, 1, REDD), (20, 1, REDD)),)                       0.0369581   \n",
       "\n",
       "                                  (((10, 1, REDD), (20, 1, REDD)),)  \n",
       "(1, 1, REDD)                                               0.496343  \n",
       "(2, 1, REDD)                                               0.497209  \n",
       "(5, 1, REDD)                                              0.0351233  \n",
       "(6, 1, REDD)                                              0.0663175  \n",
       "(7, 1, REDD)                                             -0.0469878  \n",
       "(8, 1, REDD)                                              0.0276904  \n",
       "(9, 1, REDD)                                            -0.00296221  \n",
       "(11, 1, REDD)                                             0.0172807  \n",
       "(12, 1, REDD)                                            0.00360659  \n",
       "(13, 1, REDD)                                             0.0206596  \n",
       "(14, 1, REDD)                                           -0.00138677  \n",
       "(15, 1, REDD)                                            0.00243503  \n",
       "(16, 1, REDD)                                            0.00926261  \n",
       "(17, 1, REDD)                                             0.0549659  \n",
       "(18, 1, REDD)                                             0.0606667  \n",
       "(19, 1, REDD)                                             0.0202661  \n",
       "(((3, 1, REDD), (4, 1, REDD)),)                           0.0369581  \n",
       "(((10, 1, REDD), (20, 1, REDD)),)                                 1  "
      ]
     },
     "execution_count": 17,
     "metadata": {},
     "output_type": "execute_result"
    }
   ],
   "source": [
    "correlation_df"
   ]
  }
 ],
 "metadata": {
  "kernelspec": {
   "display_name": "Python 3",
   "language": "python",
   "name": "python3"
  },
  "language_info": {
   "codemirror_mode": {
    "name": "ipython",
    "version": 3
   },
   "file_extension": ".py",
   "mimetype": "text/x-python",
   "name": "python",
   "nbconvert_exporter": "python",
   "pygments_lexer": "ipython3",
   "version": "3.6.8"
  }
 },
 "nbformat": 4,
 "nbformat_minor": 1
}
